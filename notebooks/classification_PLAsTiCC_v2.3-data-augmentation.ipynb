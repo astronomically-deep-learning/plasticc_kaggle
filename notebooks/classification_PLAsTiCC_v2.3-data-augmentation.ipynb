{
 "cells": [
  {
   "cell_type": "markdown",
   "metadata": {},
   "source": [
    "# PLAsTiCC time series classification\n",
    "This is a ML code that performs classification of the time series from the Photometric LSST Astronomical Time-Series Classification Challenge (PLAsTiCC; https://www.kaggle.com/c/PLAsTiCC-2018). A sample representation of the data is provided after loading the data.\n",
    "\n",
    "Labels are provided for the training set.\n",
    "\n",
    "The steps are the following: <br>\n",
    "1. Import libraries and sample\n",
    "2. Split sub-samples (training, validation, testing)\n",
    "3. Fit with various classifier and check performance\n",
    "4. Compare various classifiers in testing sample\n",
    "\n",
    "The alternative classifiers provide first guesses on the expected accuracy\n",
    "\n",
    "## 2.3 Trying data augmentation\n",
    "\n",
    "(based on v2.1)"
   ]
  },
  {
   "cell_type": "markdown",
   "metadata": {},
   "source": [
    "## Loading Data"
   ]
  },
  {
   "cell_type": "code",
   "execution_count": 1,
   "metadata": {},
   "outputs": [],
   "source": [
    "# Importing Libraries\n",
    "import numpy as np\n",
    "import tensorflow as tf\n",
    "import matplotlib.pyplot as plt\n",
    "from sklearn import datasets, utils, metrics\n",
    "from sklearn.svm import LinearSVC\n",
    "from sklearn.svm import NuSVC\n",
    "from sklearn.linear_model import LogisticRegression\n",
    "from sklearn.neural_network import MLPClassifier\n",
    "from sklearn.ensemble import RandomForestClassifier\n",
    "\n",
    "import warnings\n",
    "warnings.simplefilter('ignore')"
   ]
  },
  {
   "cell_type": "code",
   "execution_count": 2,
   "metadata": {},
   "outputs": [],
   "source": [
    "path_to_data = \"training_data_v1/\""
   ]
  },
  {
   "cell_type": "code",
   "execution_count": 3,
   "metadata": {},
   "outputs": [
    {
     "name": "stderr",
     "output_type": "stream",
     "text": [
      "[========================================================================] 100%\n"
     ]
    }
   ],
   "source": [
    "import glob\n",
    "files = sorted(glob.glob(path_to_data + \"/*.npy\"))\n",
    "\n",
    "import progressbar\n",
    "\n",
    "\n",
    "#restore:\n",
    "n_files = len(files)\n",
    "#debug:n_files = 1000\n",
    "\n",
    "\n",
    "# > Loading series / labels:\n",
    "# <indexed as ID array>\n",
    "    \n",
    "IDs   = []\n",
    "# ID number (without \"id-\")\n",
    "bands = []\n",
    "# band name (without \"band-\") [0 .. 5]\n",
    "\n",
    "series = []\n",
    "labels = []\n",
    "\n",
    "Duration_MJDs = []\n",
    "# array of duration of light curves\n",
    "\n",
    "\n",
    "bar = progressbar.ProgressBar(maxval=n_files, widgets=[progressbar.Bar('=', '[', ']'), ' ', progressbar.Percentage()])\n",
    "bar.start()\n",
    "for i in range(n_files):\n",
    "\n",
    "    bar.update(i+1)\n",
    "\n",
    "    # data standardization\n",
    "    tmp = np.load(files[i])\n",
    "#    tmp1 = np.load(files[i])\n",
    "#    tmp = ss.fit_transform(tmp1)  \n",
    "    \n",
    "    IDs.append(files[i].split(\"/\")[-1].split(\"_\")[0].strip(\"id-\"))\n",
    "    bands.append(int(files[i].split(\"/\")[-1].split(\"_\")[1].strip(\"band-\")))\n",
    "\n",
    "    band = int(bands[-1])\n",
    "    # current band index [0 .. 6]\n",
    "    \n",
    "    series.append(tmp)\n",
    "    labels.append(files[i].split(\"/\")[-1].split(\"-\")[-1].strip(\".npy\"))\n",
    "\n",
    "    \n",
    "    # > Loading single data files:\n",
    "    #\n",
    "    # Data format:\n",
    "    #\n",
    "    # Modified Juilian Date, Flux, err_Flux, Detected (flag)\n",
    "\n",
    "    MJD = series[-1][:,0]\n",
    "    # Modified Julian Date\n",
    "       \n",
    "    #F = series[-1][:,1]\n",
    "    # flux\n",
    "        \n",
    "    #F_err = series[-1][:,2]\n",
    "    # flux error\n",
    "    \n",
    "    \n",
    "    Duration_MJDs.append(MJD[-1] - MJD[0])\n",
    "\n",
    "bar.finish()\n"
   ]
  },
  {
   "cell_type": "code",
   "execution_count": 4,
   "metadata": {},
   "outputs": [
    {
     "name": "stdout",
     "output_type": "stream",
     "text": [
      "Number of individual targets: 7848\n",
      "[[ 5.99642637e+04  1.00640950e+01  8.38450300e+00  0.00000000e+00]\n",
      " [ 5.99682337e+04  1.39473330e+01  1.08811090e+01  0.00000000e+00]\n",
      " [ 5.99991962e+04  7.44600000e-01  1.02430480e+01  0.00000000e+00]\n",
      " [ 6.00291052e+04  5.90130900e+00  8.29292900e+00  0.00000000e+00]\n",
      " [ 6.00800742e+04  1.08659020e+01  1.04812400e+01  0.00000000e+00]\n",
      " [ 6.01400137e+04  1.65579800e+00  1.43844160e+01  0.00000000e+00]\n",
      " [ 6.03783497e+04  1.30674410e+01  1.65489350e+01  0.00000000e+00]\n",
      " [ 6.03821986e+04  4.25549770e+01  1.55467260e+01  0.00000000e+00]\n",
      " [ 6.04650943e+04 -3.27014700e+00  7.11359300e+00  0.00000000e+00]\n",
      " [ 6.04660535e+04  6.65823200e+00  1.44763030e+01  0.00000000e+00]\n",
      " [ 6.05009784e+04  1.10014760e+01  1.02264610e+01  0.00000000e+00]]\n",
      "11\n"
     ]
    }
   ],
   "source": [
    "IDs_unique = np.unique(IDs)\n",
    "# list of target IDs, without repetitions\n",
    "\n",
    "labels_unique = ['' for x in range(len(IDs_unique))]\n",
    "# list of target labels, without repetitions <indexed as IDs_unique>\n",
    "\n",
    "print('Number of individual targets: ' + str(len(IDs_unique)))\n",
    "\n",
    "print(series[0])\n",
    "print(len(series[0]))"
   ]
  },
  {
   "cell_type": "markdown",
   "metadata": {},
   "source": [
    "## Converting series to images"
   ]
  },
  {
   "cell_type": "code",
   "execution_count": 5,
   "metadata": {},
   "outputs": [
    {
     "name": "stderr",
     "output_type": "stream",
     "text": [
      "[========================================================================] 100%\r"
     ]
    },
    {
     "name": "stdout",
     "output_type": "stream",
     "text": [
      "Shape of data: (7848, 32, 32, 6)\n"
     ]
    },
    {
     "name": "stderr",
     "output_type": "stream",
     "text": [
      "\n"
     ]
    }
   ],
   "source": [
    "# The conversion happens in two steps:\n",
    "#\n",
    "# 1) Splitting a time series over a number of pixels (n_pixels)\n",
    "#\n",
    "#    The pixel number is chosen arbitrarily, and corresponds to the maximum time duration\n",
    "#    (i.e. to the duration of the longest series).\n",
    "#    Hence, a pixel corresponds to a given time interval.\n",
    "#    The number of pixels (= time) covered by a series is calculated accordingly to its duration.\n",
    "#    The series are block-averaged (binned) within each time interval (pixel); empty pixels are attributed a 0.\n",
    "#\n",
    "# 2) Converting data into a matrix of flux \"ratios\"\n",
    "#\n",
    "#    The ratios of the fluxes of each pixel with respect to the fluxes of all the other pixels\n",
    "#    are organized in a n_pixels x n_pixels matrix, of the type:\n",
    "#\n",
    "#   [1             , (F_1 / F_2)  , ..       , ..       , (F_1 / F_N)  ]\n",
    "#   [(F_2 / F_1)   , 1            , ..       , ..       , (F_2 / F_N)  ]\n",
    "#   [..            , ..           , 1        , ..       , ..           ]\n",
    "#   [(F_N-1 / F_1) , ..           , ..       , 1        , (F_N-1 / F_N)]\n",
    "#   [(F_N / F_1)   , ..           , ..       , ..       , 1            ]\n",
    "\n",
    "n_pixels = 32\n",
    "n_bands  = 6\n",
    "\n",
    "Duration_MAX = np.max(Duration_MJDs)\n",
    "# longest duration of time series [MDJ]\n",
    "\n",
    "deltaT_per_pixel = Duration_MAX / n_pixels\n",
    "# time interval within a pixel of the new, resampled images [MJD/pixel]\n",
    "# NOTE: this is defined with respect to the largest duration\n",
    "# NOTE: final images will have 64 x 64 pixels\n",
    "\n",
    "data = np.zeros( (len(IDs_unique) , n_pixels , n_pixels , n_bands ) )\n",
    "# data array < n_targets , image(x,y), bands >\n",
    "# NOTE: The first dimension corresponds to the number of targets <indexed as IDs_unique>\n",
    "\n",
    "\n",
    "bar = progressbar.ProgressBar(maxval=n_files, widgets=[progressbar.Bar('=', '[', ']'), ' ', progressbar.Percentage()])\n",
    "bar.start()\n",
    "for i,serie in enumerate(series):\n",
    "\n",
    "    bar.update(i+1)\n",
    "\n",
    "    band = int(bands[i])\n",
    "    # current band index [0 .. 6]\n",
    "\n",
    "    pixels_image = int(np.ceil( Duration_MJDs[i] / deltaT_per_pixel ))\n",
    "    # number of pixels that the current image will cover in the resampled image\n",
    "\n",
    "    MJD = series[i][:,0]\n",
    "    # Modified Julian Date\n",
    "    \n",
    "    F = series[i][:,1]\n",
    "    # flux  \n",
    "\n",
    "    F_err = series[i][:,2]\n",
    "    # flux error\n",
    "    \n",
    "    MJD   = np.array(MJD)\n",
    "    F     = np.array(F)\n",
    "    F_err = np.array(F_err)\n",
    "\n",
    "    F_positive = F + abs(np.min(F))\n",
    "    # shifting values up to have only positive arrays\n",
    "    \n",
    "    F_binned = np.zeros((n_pixels))\n",
    "    # binned flux series\n",
    "    \n",
    "    \n",
    "    # > Binning series - for band b:\n",
    "      \n",
    "    for p in range(pixels_image):\n",
    "    # p = pixel index \n",
    "\n",
    "        (indexes_bin,) = np.where( (p*deltaT_per_pixel <= (MJD - MJD[0])) & ((MJD - MJD[0]) < (p+1)*deltaT_per_pixel) )\n",
    "        # indexes of data points (of series i) within current pixel (bin)\n",
    "        \n",
    "        F_binned[p] = float(np.mean( F_positive[indexes_bin] ))\n",
    "        # flux within current pixel\n",
    "        \n",
    "        np.nan_to_num(F_binned,0)\n",
    "        # (in case no data points were binned, the average is 'nan')\n",
    "\n",
    "        \n",
    "    # > Converting series to image - for band b:\n",
    "        \n",
    "    data_i = np.zeros((n_pixels,n_pixels,n_bands))\n",
    "    # flux ratio matrix for source i\n",
    "    # NOTE: organizing data in a 2D matrix with shape [ len(array) ,  len(array) , channels(= n_bands) ]\n",
    " \n",
    "\n",
    "    for j in range(n_pixels):\n",
    "    # j = row index\n",
    "      \n",
    "        data_i[j,:,band] = ( F_binned[j] / F_binned )\n",
    "\n",
    "        \n",
    "    # > Mirroring matrix across the diagonal:\n",
    "    \n",
    "    data_i_band = data_i[:,:,band]\n",
    "    indexes_lower = np.tril_indices(data_i_band.shape[0], -1)\n",
    "    # indexes of lower part of matrix\n",
    "    data_i_band[indexes_lower] = data_i_band.T[indexes_lower]\n",
    "    # mirroring\n",
    "\n",
    "\n",
    "    # > Removing 'inf' and 'nan':\n",
    "    data_i_band[np.isinf(data_i_band)] = 0\n",
    "    np.nan_to_num(data_i_band,0)\n",
    "    \n",
    "    \n",
    "    # > Normalizing image:\n",
    "    # NOTE: At this point, value are only negative or 0\n",
    "    data_i_band_norm = (data_i_band + abs(np.min(data_i_band))) / np.max(data_i_band + abs(np.min(data_i_band)))\n",
    "\n",
    "\n",
    "    # > Organizing data in proper structure:\n",
    "    \n",
    "    (t,) = np.where(IDs_unique == IDs[i])\n",
    "    t = t[0]\n",
    "    # t = index of target in array of unique IDs\n",
    "    # NOTE: manipulation is because np.where returns a 1-value array instead of a variable\n",
    "\n",
    "    labels_unique[t] = labels[i]\n",
    "    # NOTE: This is over-written 6 times (once per band)\n",
    "    #       But it doesn't matter since all bands share the same classification \n",
    "\n",
    "    band = int(bands[i])\n",
    "    # NOTE: \"bands\" is indexed as \"IDs\"\n",
    "\n",
    "    data[t,:,:,band] = data_i_band_norm\n",
    "    # loading image in corresponding unique (object ID, band) slot  \n",
    "    \n",
    "    \n",
    "bar.finish()\n",
    "  \n",
    "print('Shape of data: ' + str(data.shape))"
   ]
  },
  {
   "cell_type": "markdown",
   "metadata": {},
   "source": [
    "## Display examples of data series of same class over different bands\n"
   ]
  },
  {
   "cell_type": "code",
   "execution_count": 6,
   "metadata": {},
   "outputs": [
    {
     "data": {
      "image/png": "[encoded data removed]",
      "text/plain": [
       "<Figure size 1080x1800 with 18 Axes>"
      ]
     },
     "metadata": {
      "needs_background": "light"
     },
     "output_type": "display_data"
    }
   ],
   "source": [
    "# Display some example images\n",
    "\n",
    "n_display = 18\n",
    "# max number of images to be displayed\n",
    "\n",
    "fig = plt.figure(figsize=(15,25))\n",
    "\n",
    "for t,data_t in (enumerate(data)):\n",
    "# t = target index\n",
    "    \n",
    "    for band in range(data_t.shape[2]):\n",
    "    # iterating over the bands for target t\n",
    "    # (they could in principle be different for different targets)\n",
    "\n",
    "        band = int(band)\n",
    "        \n",
    "        image_t_b = data[t,:,:,band]\n",
    "        # image corresponding to a given target t and band\n",
    "        \n",
    "        # Plotting:\n",
    "\n",
    "        p = t*n_bands + band\n",
    "        # p = plot counter\n",
    "        \n",
    "        plt.subplot(10, 6, p + 1)\n",
    "        plt.axis('off')\n",
    "\n",
    "        plt.tight_layout()\n",
    "        \n",
    "        vmin,vmax = np.percentile(image_t_b.flatten(),[1,99])\n",
    "        # min and max are set as percentiles for each image\n",
    "\n",
    "        plt.imshow(image_t_b, vmin=vmin, vmax=vmax, interpolation='nearest')\n",
    "        plt.title(str(IDs_unique[t]) + ' | b ' + str(band) + ' | cl ' + labels_unique[t])\n",
    "        \n",
    "    if p == (n_display-1): break\n"
   ]
  },
  {
   "cell_type": "markdown",
   "metadata": {},
   "source": [
    "## Display average images for same class (and same band)"
   ]
  },
  {
   "cell_type": "code",
   "execution_count": 7,
   "metadata": {},
   "outputs": [
    {
     "name": "stderr",
     "output_type": "stream",
     "text": [
      "[========================================================================] 100%\n"
     ]
    },
    {
     "data": {
      "image/png": "[encoded data removed]",
      "text/plain": [
       "<Figure size 1080x2520 with 84 Axes>"
      ]
     },
     "metadata": {
      "needs_background": "light"
     },
     "output_type": "display_data"
    }
   ],
   "source": [
    "fig = plt.figure(figsize=(15,35))\n",
    "\n",
    "labels_list = list(set(labels_unique))\n",
    "labels_list.sort()\n",
    "# list of classes in the data\n",
    "\n",
    "\n",
    "bar = progressbar.ProgressBar(maxval=len(labels_list), widgets=[progressbar.Bar('=', '[', ']'), ' ', progressbar.Percentage()])\n",
    "bar.start()\n",
    "for c in range(len(labels_list)):\n",
    "# c = index of class_list\n",
    "\n",
    "    bar.update(c+1)\n",
    "\n",
    "    for band in range(data_t.shape[2]):\n",
    "    # iterating over the bands for class c\n",
    "\n",
    "        band = int(band)\n",
    "        \n",
    "        if(band >= n_bands):\n",
    "            # in case the number of bands has been reduced for the analysis\n",
    "            continue\n",
    "\n",
    "        (indexes_c,) = np.where(np.array(labels_unique) == labels_list[c])\n",
    "        # indexes of targets with label c\n",
    "    \n",
    "        median_c_band = np.median(data[indexes_c,:,:,band], axis=(0))\n",
    "        # median image for class c and band\n",
    "\n",
    "        \n",
    "        # Plotting:\n",
    "\n",
    "        p = c*n_bands + band\n",
    "        # p = plot counter\n",
    "        \n",
    "        plt.subplot(len(labels_list), n_bands, p + 1)\n",
    "        plt.axis('off')\n",
    "\n",
    "        plt.tight_layout()\n",
    "\n",
    "        vmin,vmax = np.percentile(median_c_band.flatten(),[0.1,99.9])\n",
    "        # min and max are set as percentiles for each image\n",
    "\n",
    "        plt.imshow(median_c_band, vmin=vmin, vmax=vmax, interpolation='nearest')\n",
    "        plt.title('cl ' + labels_list[c] + ' | b ' + str(band))\n",
    "\n",
    "bar.finish()\n"
   ]
  },
  {
   "cell_type": "markdown",
   "metadata": {},
   "source": [
    "## Creating samples\n"
   ]
  },
  {
   "cell_type": "code",
   "execution_count": 8,
   "metadata": {},
   "outputs": [],
   "source": [
    "# Shuffle the samples\n",
    "shuffled_indexes = np.arange(len(IDs_unique))\n",
    "np.random.shuffle(shuffled_indexes)\n",
    "\n",
    "# To reduce the sample size (for testing purposes):\n",
    "# remove: shuffled_indexes = shuffled_indexes[0:1000]\n",
    "# remove: n_samples = len(shuffled_indexes)\n",
    "\n",
    "data = data[shuffled_indexes]\n",
    "labels_unique = list(np.array(labels_unique)[shuffled_indexes])\n",
    "\n",
    "n_samples = len(IDs_unique)"
   ]
  },
  {
   "cell_type": "code",
   "execution_count": 47,
   "metadata": {},
   "outputs": [
    {
     "name": "stdout",
     "output_type": "stream",
     "text": [
      "Sample Summary\n",
      "________________________\n",
      "Total images     |  7848\n",
      "-----------------|------\n",
      " '-> Training    |  6278\n",
      "-----------------|------\n",
      " '-> Validation  |   785\n",
      "-----------------|------\n",
      " '-> Test        |   785\n",
      "\n",
      "Compare these values with the accuracy of each classifier\n",
      "If accuracies are similar to the demographics, the classifier is only mirroring the data\n"
     ]
    }
   ],
   "source": [
    "# Splitting in training, validation, and test samples:\n",
    "data_train_init = data[:8 * n_samples // 10] # i.e. 80% training\n",
    "labels_train_init = labels_unique[:8 * n_samples // 10]\n",
    "\n",
    "data_valid = data[8 * n_samples // 10:9 * n_samples // 10] # i.e. 10% validation (80->90%)\n",
    "labels_valid = labels_unique[8 * n_samples // 10:9 * n_samples // 10]\n",
    "\n",
    "data_test = data[9 * n_samples // 10:] # i.e. 10% testing (90->100%)\n",
    "labels_test = labels_unique[9 * n_samples // 10:]\n",
    "\n",
    "#n_train_spiral = len([x for x in labels_train if x == 'spiral'])\n",
    "#n_train_ellipt = len([x for x in labels_train if x == 'ellipt'])\n",
    "\n",
    "#n_valid_spiral = len([x for x in labels_valid if x == 'spiral'])\n",
    "#n_valid_ellipt = len([x for x in labels_valid if x == 'ellipt'])\n",
    "\n",
    "#n_test_spiral = len([x for x in labels_test if x == 'spiral'])\n",
    "#n_test_ellipt = len([x for x in labels_test if x == 'ellipt'])\n",
    "\n",
    "print(\"Sample Summary\")\n",
    "print(\"________________________\")\n",
    "print(\"Total images     | %5s\" % len(data))\n",
    "print(\"-----------------|------\")\n",
    "print(\" '-> Training    | %5s\" % len(data_train_init))\n",
    "#print(\"      '-> spiral | %5s (%.1f%%)\" % (n_train_spiral , (n_train_spiral/len(data_train)*100.)))\n",
    "#print(\"      '-> ellipt | %5s (%.1f%%)\" % (n_train_ellipt , (n_train_ellipt/len(data_train)*100.)))\n",
    "print(\"-----------------|------\")\n",
    "print(\" '-> Validation  | %5s\" % len(data_valid))\n",
    "#print(\"      '-> spiral | %5s (%.1f%%)\" % (n_valid_spiral , (n_valid_spiral/len(data_valid)*100.)))\n",
    "#print(\"      '-> ellipt | %5s (%.1f%%)\" % (n_valid_ellipt , (n_valid_ellipt/len(data_valid)*100.)))\n",
    "print(\"-----------------|------\")\n",
    "print(\" '-> Test        | %5s\" % len(data_test))\n",
    "#print(\"      '-> spiral | %5s (%.1f%%)\" % (n_test_spiral , (n_test_spiral/len(data_test)*100.)))\n",
    "#print(\"      '-> ellipt | %5s (%.1f%%)\" % (n_test_ellipt , (n_test_ellipt/len(data_test)*100.)))\n",
    "\n",
    "print('')\n",
    "print('Compare these values with the accuracy of each classifier')\n",
    "print('If accuracies are similar to the demographics, the classifier is only mirroring the data')"
   ]
  },
  {
   "cell_type": "markdown",
   "metadata": {},
   "source": [
    "## Data augmentation"
   ]
  },
  {
   "cell_type": "code",
   "execution_count": 51,
   "metadata": {
    "scrolled": true
   },
   "outputs": [
    {
     "name": "stderr",
     "output_type": "stream",
     "text": [
      "[                                                                        ] 100%\n",
      "[                                                                        ]   0%\r"
     ]
    },
    {
     "name": "stdout",
     "output_type": "stream",
     "text": [
      "Maximum number of objects: 1854 for class: 90\n",
      "\n",
      "Iterating over the objects of class 90\n",
      "to get 0 more objects (from 1854 initially)\n",
      "Iterating over the objects of class 67\n",
      "to get 1580 more objects (from 158 initially)\n",
      " > iteration 1 / 10\n",
      " > iteration 2 / 10\n",
      " > iteration 3 / 10\n",
      " > iteration 4 / 10\n",
      " > iteration 5 / 10\n",
      " > iteration 6 / 10\n",
      " > iteration 7 / 10\n",
      " > iteration 8 / 10\n",
      " > iteration 9 / 10\n",
      " > iteration 10 / 10\n"
     ]
    },
    {
     "name": "stderr",
     "output_type": "stream",
     "text": [
      "[========================================================================] 100%\n",
      "[                                                                        ]   0%\r"
     ]
    },
    {
     "name": "stdout",
     "output_type": "stream",
     "text": [
      "Iterating over the objects of class 16\n",
      "to get 754 more objects (from 754 initially)\n",
      " > iteration 1 / 1\n"
     ]
    },
    {
     "name": "stderr",
     "output_type": "stream",
     "text": [
      "[========================================================================] 100%\n",
      "[                                                                        ]   0%\r"
     ]
    },
    {
     "name": "stdout",
     "output_type": "stream",
     "text": [
      "Iterating over the objects of class 95\n",
      "to get 1608 more objects (from 134 initially)\n",
      " > iteration 1 / 12\n",
      " > iteration 2 / 12\n",
      " > iteration 3 / 12\n",
      " > iteration 4 / 12\n",
      " > iteration 5 / 12\n",
      " > iteration 6 / 12\n",
      " > iteration 7 / 12\n",
      " > iteration 8 / 12\n",
      " > iteration 9 / 12\n",
      " > iteration 10 / 12\n",
      " > iteration 11 / 12\n",
      " > iteration 12 / 12\n"
     ]
    },
    {
     "name": "stderr",
     "output_type": "stream",
     "text": [
      "[========================================================================] 100%\n",
      "[                                                                        ]   0%\r"
     ]
    },
    {
     "name": "stdout",
     "output_type": "stream",
     "text": [
      "Iterating over the objects of class 65\n",
      "to get 788 more objects (from 788 initially)\n",
      " > iteration 1 / 1\n"
     ]
    },
    {
     "name": "stderr",
     "output_type": "stream",
     "text": [
      "[========================================================================] 100%\n",
      "[                                                                        ]   0%\r"
     ]
    },
    {
     "name": "stdout",
     "output_type": "stream",
     "text": [
      "Iterating over the objects of class 42\n",
      "to get 958 more objects (from 958 initially)\n",
      " > iteration 1 / 1\n"
     ]
    },
    {
     "name": "stderr",
     "output_type": "stream",
     "text": [
      "[========================================================================] 100%\n",
      "[                                                                        ]   0%\r"
     ]
    },
    {
     "name": "stdout",
     "output_type": "stream",
     "text": [
      "Iterating over the objects of class 6\n",
      "to get 1694 more objects (from 121 initially)\n",
      " > iteration 1 / 14\n",
      " > iteration 2 / 14\n",
      " > iteration 3 / 14\n",
      " > iteration 4 / 14\n",
      " > iteration 5 / 14\n",
      " > iteration 6 / 14\n",
      " > iteration 7 / 14\n",
      " > iteration 8 / 14\n",
      " > iteration 9 / 14\n",
      " > iteration 10 / 14\n",
      " > iteration 11 / 14\n",
      " > iteration 12 / 14\n",
      " > iteration 13 / 14\n",
      " > iteration 14 / 14\n"
     ]
    },
    {
     "name": "stderr",
     "output_type": "stream",
     "text": [
      "[========================================================================] 100%\n",
      "[                                                                        ]   0%\r"
     ]
    },
    {
     "name": "stdout",
     "output_type": "stream",
     "text": [
      "Iterating over the objects of class 15\n",
      "to get 1173 more objects (from 391 initially)\n",
      " > iteration 1 / 3\n",
      " > iteration 2 / 3\n",
      " > iteration 3 / 3\n"
     ]
    },
    {
     "name": "stderr",
     "output_type": "stream",
     "text": [
      "[========================================================================] 100%\n",
      "[                                                                        ]   0%\r"
     ]
    },
    {
     "name": "stdout",
     "output_type": "stream",
     "text": [
      "Iterating over the objects of class 64\n",
      "to get 1700 more objects (from 85 initially)\n",
      " > iteration 1 / 20\n",
      " > iteration 2 / 20\n",
      " > iteration 3 / 20\n",
      " > iteration 4 / 20\n",
      " > iteration 5 / 20\n",
      " > iteration 6 / 20\n",
      " > iteration 7 / 20\n",
      " > iteration 8 / 20\n",
      " > iteration 9 / 20\n",
      " > iteration 10 / 20\n",
      " > iteration 11 / 20\n",
      " > iteration 12 / 20\n",
      " > iteration 13 / 20\n",
      " > iteration 14 / 20\n",
      " > iteration 15 / 20\n",
      " > iteration 16 / 20\n",
      " > iteration 17 / 20\n",
      " > iteration 18 / 20\n",
      " > iteration 19 / 20\n",
      " > iteration 20 / 20\n"
     ]
    },
    {
     "name": "stderr",
     "output_type": "stream",
     "text": [
      "[========================================================================] 100%\n",
      "[                                                                        ]   0%\r"
     ]
    },
    {
     "name": "stdout",
     "output_type": "stream",
     "text": [
      "Iterating over the objects of class 62\n",
      "to get 1161 more objects (from 387 initially)\n",
      " > iteration 1 / 3\n",
      " > iteration 2 / 3\n",
      " > iteration 3 / 3\n"
     ]
    },
    {
     "name": "stderr",
     "output_type": "stream",
     "text": [
      "[========================================================================] 100%\n",
      "[                                                                        ]   0%\r"
     ]
    },
    {
     "name": "stdout",
     "output_type": "stream",
     "text": [
      "Iterating over the objects of class 88\n",
      "to get 1455 more objects (from 291 initially)\n",
      " > iteration 1 / 5\n",
      " > iteration 2 / 5\n",
      " > iteration 3 / 5\n",
      " > iteration 4 / 5\n",
      " > iteration 5 / 5\n"
     ]
    },
    {
     "name": "stderr",
     "output_type": "stream",
     "text": [
      "[========================================================================] 100%\n",
      "[                                                                        ]   0%\r"
     ]
    },
    {
     "name": "stdout",
     "output_type": "stream",
     "text": [
      "Iterating over the objects of class 52\n",
      "to get 1584 more objects (from 144 initially)\n",
      " > iteration 1 / 11\n",
      " > iteration 2 / 11\n",
      " > iteration 3 / 11\n",
      " > iteration 4 / 11\n",
      " > iteration 5 / 11\n",
      " > iteration 6 / 11\n",
      " > iteration 7 / 11\n",
      " > iteration 8 / 11\n",
      " > iteration 9 / 11\n",
      " > iteration 10 / 11\n",
      " > iteration 11 / 11\n"
     ]
    },
    {
     "name": "stderr",
     "output_type": "stream",
     "text": [
      "[========================================================================] 100%\n",
      "[                                                                        ]   0%\r"
     ]
    },
    {
     "name": "stdout",
     "output_type": "stream",
     "text": [
      "Iterating over the objects of class 92\n",
      "to get 1504 more objects (from 188 initially)\n",
      " > iteration 1 / 8\n",
      " > iteration 2 / 8\n",
      " > iteration 3 / 8\n",
      " > iteration 4 / 8\n",
      " > iteration 5 / 8\n",
      " > iteration 6 / 8\n",
      " > iteration 7 / 8\n",
      " > iteration 8 / 8\n"
     ]
    },
    {
     "name": "stderr",
     "output_type": "stream",
     "text": [
      "[========================================================================] 100%\n",
      "[                                                                        ]   0%\r"
     ]
    },
    {
     "name": "stdout",
     "output_type": "stream",
     "text": [
      "Iterating over the objects of class 53\n",
      "to get 1825 more objects (from 25 initially)\n",
      " > iteration 1 / 73\n",
      " > iteration 2 / 73\n",
      " > iteration 3 / 73\n",
      " > iteration 4 / 73\n",
      " > iteration 5 / 73\n",
      " > iteration 6 / 73\n",
      " > iteration 7 / 73\n",
      " > iteration 8 / 73\n",
      " > iteration 9 / 73\n",
      " > iteration 10 / 73\n",
      " > iteration 11 / 73\n",
      " > iteration 12 / 73\n",
      " > iteration 13 / 73\n",
      " > iteration 14 / 73\n",
      " > iteration 15 / 73\n",
      " > iteration 16 / 73\n",
      " > iteration 17 / 73\n",
      " > iteration 18 / 73\n",
      " > iteration 19 / 73\n",
      " > iteration 20 / 73\n",
      " > iteration 21 / 73\n",
      " > iteration 22 / 73\n",
      " > iteration 23 / 73\n",
      " > iteration 24 / 73\n",
      " > iteration 25 / 73\n",
      " > iteration 26 / 73\n",
      " > iteration 27 / 73\n",
      " > iteration 28 / 73\n",
      " > iteration 29 / 73\n",
      " > iteration 30 / 73\n",
      " > iteration 31 / 73\n",
      " > iteration 32 / 73\n",
      " > iteration 33 / 73\n",
      " > iteration 34 / 73\n",
      " > iteration 35 / 73\n",
      " > iteration 36 / 73\n",
      " > iteration 37 / 73\n",
      " > iteration 38 / 73\n",
      " > iteration 39 / 73\n",
      " > iteration 40 / 73\n",
      " > iteration 41 / 73\n",
      " > iteration 42 / 73\n",
      " > iteration 43 / 73\n",
      " > iteration 44 / 73\n",
      " > iteration 45 / 73\n",
      " > iteration 46 / 73\n",
      " > iteration 47 / 73\n",
      " > iteration 48 / 73\n",
      " > iteration 49 / 73\n",
      " > iteration 50 / 73\n",
      " > iteration 51 / 73\n",
      " > iteration 52 / 73\n",
      " > iteration 53 / 73\n",
      " > iteration 54 / 73\n",
      " > iteration 55 / 73\n",
      " > iteration 56 / 73\n",
      " > iteration 57 / 73\n",
      " > iteration 58 / 73\n",
      " > iteration 59 / 73\n",
      " > iteration 60 / 73\n",
      " > iteration 61 / 73\n",
      " > iteration 62 / 73\n",
      " > iteration 63 / 73\n",
      " > iteration 64 / 73\n",
      " > iteration 65 / 73\n",
      " > iteration 66 / 73\n",
      " > iteration 67 / 73\n",
      " > iteration 68 / 73\n",
      " > iteration 69 / 73\n",
      " > iteration 70 / 73\n",
      " > iteration 71 / 73\n",
      " > iteration 72 / 73\n",
      " > iteration 73 / 73\n"
     ]
    },
    {
     "name": "stderr",
     "output_type": "stream",
     "text": [
      "[========================================================================] 100%\n"
     ]
    }
   ],
   "source": [
    "from collections import Counter\n",
    "\n",
    "# counting the number of objects in each class\n",
    "cnts = Counter(labels_train_init)\n",
    "# and getting the maximum of the corresponding class\n",
    "max_objects = max(cnts.values())\n",
    "max_class = max(cnts, key=cnts.get)    \n",
    "print(\"Maximum number of objects: {} for class: {}\".format(max_objects, max_class))\n",
    "print()\n",
    "\n",
    "# creating the necessary number of data to add\n",
    "diff = {label:max_objects-cnts[label] for label in cnts.keys() }\n",
    "\n",
    "#print(cnts)\n",
    "#print(diff)\n",
    "\n",
    "17784\n",
    "aug_labels = []\n",
    "for label in diff.keys():    \n",
    "    # indeces of objects in data_train according to their class (label)\n",
    "    inds4class = [index for index, value in enumerate(labels_train_init) if value == label]\n",
    "    #print(len(inds4class))\n",
    "    \n",
    "    diff_num_objects = diff[label]\n",
    "    #print(num_objects/len(inds4class), '>', np.rint(num_objects/len(inds4class)))\n",
    "\n",
    "    # Number of iterations over the objects of each class to create fake data.\n",
    "    # We keep only a round number, as we need to populate the classes \n",
    "    # and not make them necessarily equal.\n",
    "    iterations = diff_num_objects/len(inds4class)\n",
    "    if iterations > 1 or iterations == 0.0:\n",
    "        iterations = int(iterations)\n",
    "    elif iterations > 0 and iterations < 1:\n",
    "        iterations = 1\n",
    "\n",
    "    num_objects = iterations*cnts[label]\n",
    "    print(\"Iterating over the objects of class\",label)\n",
    "    print(\"to get {} more objects (from {} initially)\".format(num_objects,cnts[label]))\n",
    "\n",
    "    #c = 0\n",
    "    #bar = progressbar.ProgressBar(maxval=num_objects, widgets=[progressbar.Bar('=', '[', ']'), ' ', progressbar.Percentage()])\n",
    "    #bar.start()  \n",
    "  \n",
    "    for repeat in range(1,iterations+1,1):\n",
    "        print(\" > iteration {} / {}\".format(repeat, iterations))\n",
    "\n",
    "        for obj,i in zip(inds4class,range(len(inds4class))):\n",
    "            # a small percentage (0.01-0.05) of the orifinal value is added or subtracted \n",
    "            rndm = 1+np.random.choice((-1,1))*(np.random.randint(1,6)/100.)\n",
    "\n",
    "            # adding one more axis for its shape to be compatible with the data_train           \n",
    "            new_data_i = np.array( data_train_init[obj,:,:,:]*rndm )[np.newaxis]\n",
    "            #print(new_data_i.shape)\n",
    "        \n",
    "            #bar.update(c+1)\n",
    "\n",
    "        \n",
    "            if len(aug_labels)==0:\n",
    "                aug_data = new_data_i\n",
    "            else:\n",
    "                aug_data = np.vstack((aug_data,new_data_i))\n",
    "                \n",
    "            aug_labels.append(label)\n",
    "            \n",
    "    #bar.finish()\n",
    "\n",
    "    #print(len(aug_labels))        \n",
    "    #print(aug_data.shape, len(aug_labels), aug_labels)\n",
    "\n",
    "# This block returns the augmented data    \n",
    "\n",
    "  "
   ]
  },
  {
   "cell_type": "code",
   "execution_count": 55,
   "metadata": {},
   "outputs": [
    {
     "name": "stdout",
     "output_type": "stream",
     "text": [
      "Training Augmentation Summary\n",
      "_____________________________\n",
      "Initial # objects  |  6278\n",
      "-------------------|---------\n",
      "Additional objects | 17784\n",
      "-------------------|----------\n",
      "Total objects      | 24062\n"
     ]
    }
   ],
   "source": [
    "print(\"Training Augmentation Summary\")\n",
    "print(\"_____________________________\")\n",
    "print(\"Initial # objects  | %5s\" % len(labels_train_init))\n",
    "print(\"-------------------|---------\")\n",
    "print(\"Additional objects | %5s\" % len(aug_labels))\n",
    "print(\"-------------------|----------\")\n",
    "\n",
    "data_train_total = np.vstack((data_train_init, aug_data))\n",
    "labels_train_total = []\n",
    "labels_train_total.extend(labels_train_init)\n",
    "labels_train_total.extend(aug_labels)\n",
    "\n",
    "print(\"Total objects      | %5s\" % len(labels_train_total))"
   ]
  },
  {
   "cell_type": "code",
   "execution_count": 57,
   "metadata": {},
   "outputs": [
    {
     "name": "stdout",
     "output_type": "stream",
     "text": [
      "['42', '90', '88', '65', '16', '15', '42', '16', '90']\n",
      "['53', '53', '53', '53', '53', '53', '53', '53', '53']\n",
      "['53', '53', '53', '53', '53', '53', '53', '53', '53']\n",
      "(6278, 32, 32, 6)\n",
      "(17784, 32, 32, 6)\n",
      "(24062, 32, 32, 6)\n"
     ]
    }
   ],
   "source": [
    "# sanity prints...\n",
    "print(labels_train_init[-10:-1])\n",
    "print(aug_labels[-10:-1])\n",
    "print(labels_train_total[-10:-1])\n",
    "\n",
    "print(data_train_init.shape)\n",
    "print(aug_data.shape)\n",
    "print(data_train_total.shape)"
   ]
  },
  {
   "cell_type": "markdown",
   "metadata": {},
   "source": [
    "### Resampling the training sample\n",
    "With data augmentation the training sample is getting too large, so the model overfits very similar objects. We opted to re-sample the model by taking a number of objects from the pool of training data."
   ]
  },
  {
   "cell_type": "code",
   "execution_count": 85,
   "metadata": {},
   "outputs": [
    {
     "name": "stdout",
     "output_type": "stream",
     "text": [
      "Resampling from 24062 to 12031 training objects\n",
      "\n",
      "New Training Samples per Class\n",
      "--------------------------------\n",
      "Class: 15\t | 769\t objects\n",
      "Class: 16\t | 736\t objects\n",
      "Class: 42\t | 974\t objects\n",
      "Class: 52\t | 830\t objects\n",
      "Class: 53\t | 927\t objects\n",
      "Class: 6\t | 903\t objects\n",
      "Class: 62\t | 760\t objects\n",
      "Class: 64\t | 911\t objects\n",
      "Class: 65\t | 808\t objects\n",
      "Class: 67\t | 870\t objects\n",
      "Class: 88\t | 875\t objects\n",
      "Class: 90\t | 929\t objects\n",
      "Class: 92\t | 852\t objects\n",
      "Class: 95\t | 887\t objects\n"
     ]
    }
   ],
   "source": [
    "from random import shuffle\n",
    "\n",
    "combined = list(zip(data_train_total, labels_train_total))\n",
    "shuffle(combined)\n",
    "data_train_total[:], labels_train_total[:] = zip(*combined)\n",
    "\n",
    "data_train = data_train_total[:len(labels_train_total)//2] \n",
    "labels_train = labels_train_total[:len(labels_train_total)//2]\n",
    "\n",
    "print(\"Resampling from {} to {} training objects\".format(data_train_total.shape[0], data_train.shape[0]))\n",
    "print()      \n",
    "\n",
    "train_counter = Counter(labels_train)\n",
    "print(\"New Training Samples per Class\")\n",
    "print(\"--------------------------------\")\n",
    "\n",
    "for c in sorted(train_counter.keys()):\n",
    "    print(\"Class: {}\\t | {}\\t objects\".format(c, train_counter[c]))\n"
   ]
  },
  {
   "cell_type": "code",
   "execution_count": null,
   "metadata": {},
   "outputs": [],
   "source": []
  },
  {
   "cell_type": "markdown",
   "metadata": {},
   "source": [
    "### Converting to 1D for other classifiers"
   ]
  },
  {
   "cell_type": "code",
   "execution_count": 86,
   "metadata": {},
   "outputs": [
    {
     "name": "stdout",
     "output_type": "stream",
     "text": [
      "Shape of train 1D       | (12031, 1024)\n",
      "Shape of valid 1D       | (785, 1024)\n",
      "Shape of label train 1D | 12031\n",
      "Shape of label valid 1D | 785\n"
     ]
    }
   ],
   "source": [
    "# Converting to 1D:\n",
    "\n",
    "# Using only band 0, and compressing dimensions into 1:\n",
    "data_train_1D = data_train[:,:,:,0].reshape(len(data_train),n_pixels*n_pixels)\n",
    "data_valid_1D = data_valid[:,:,:,0].reshape(len(data_valid),n_pixels*n_pixels)\n",
    "\n",
    "labels_train_1D = labels_train\n",
    "labels_valid_1D = labels_valid \n",
    "\n",
    "print('Shape of train 1D       | ' + str(data_train_1D.shape))\n",
    "print('Shape of valid 1D       | ' + str(data_valid_1D.shape))\n",
    "\n",
    "print('Shape of label train 1D | ' + str(len(labels_train_1D)))\n",
    "print('Shape of label valid 1D | ' + str(len(labels_valid_1D)))"
   ]
  },
  {
   "cell_type": "markdown",
   "metadata": {},
   "source": [
    "## > Using scikit-learn / SVM classifier\n",
    "Classical Support Vector Machines classifier\n",
    "NOTE: The non-linear kernel is extremely slow"
   ]
  },
  {
   "cell_type": "code",
   "execution_count": 87,
   "metadata": {},
   "outputs": [
    {
     "name": "stdout",
     "output_type": "stream",
     "text": [
      "Classification report for LinearSVC(C=1.0, class_weight=None, dual=True, fit_intercept=True,\n",
      "     intercept_scaling=1, loss='squared_hinge', max_iter=1000,\n",
      "     multi_class='ovr', penalty='l2', random_state=None, tol=0.0001,\n",
      "     verbose=0):\n",
      "              precision    recall  f1-score   support\n",
      "\n",
      "          15       0.12      0.13      0.13        47\n",
      "          16       0.14      0.04      0.06        82\n",
      "          42       0.17      0.10      0.13       125\n",
      "          52       0.00      0.00      0.00        23\n",
      "          53       0.00      0.00      0.00         3\n",
      "           6       0.00      0.00      0.00        12\n",
      "          62       0.03      0.02      0.02        52\n",
      "          64       0.00      0.00      0.00         4\n",
      "          65       0.15      0.06      0.09       100\n",
      "          67       0.04      0.17      0.06        18\n",
      "          88       0.05      0.10      0.07        39\n",
      "          90       0.29      0.09      0.13       240\n",
      "          92       0.03      0.04      0.04        26\n",
      "          95       0.00      0.00      0.00        14\n",
      "\n",
      "   micro avg       0.07      0.07      0.07       785\n",
      "   macro avg       0.07      0.05      0.05       785\n",
      "weighted avg       0.16      0.07      0.09       785\n",
      "\n",
      "\n",
      "Confusion matrix:\n",
      "[[ 6  1  5  2  3  1  2  6  5  4  6  5  0  1]\n",
      " [ 2  3  8  5  5  5  3  8  4  8  6  5  8 12]\n",
      " [ 8  6 13 10 10 11  8 10  8  8 12  7  3 11]\n",
      " [ 0  1  2  0  3  0  0  4  0  1  4  2  1  5]\n",
      " [ 1  0  0  1  0  0  0  0  0  0  0  0  0  1]\n",
      " [ 1  0  1  1  0  0  1  1  0  2  3  1  1  0]\n",
      " [ 2  1  8  6  3  4  1  5  3  8  2  7  1  1]\n",
      " [ 0  0  0  0  1  0  0  0  0  0  2  0  0  1]\n",
      " [ 7  3  8  7  5  6  3 10  6  9  9 15  4  8]\n",
      " [ 1  0  0  4  0  0  0  2  1  3  0  5  1  1]\n",
      " [ 4  0  3  3  3  2  1  3  3  3  4  3  3  4]\n",
      " [14  5 28 15 18 12 13 12  9 32 26 21  7 28]\n",
      " [ 1  1  1  2  1  3  4  0  2  3  4  1  1  2]\n",
      " [ 1  1  0  1  2  1  0  2  0  0  5  0  1  0]]\n"
     ]
    }
   ],
   "source": [
    "# Classifier\n",
    "model_svc = LinearSVC()\n",
    "#model_svc = NuSVC()\n",
    "model_svc.fit(data_train_1D, labels_train_1D)\n",
    "\n",
    "# Comparisong with prediction\n",
    "predicted = model_svc.predict(data_valid_1D)\n",
    "\n",
    "print(\"Classification report for %s:\\n%s\\n\"\n",
    "      % (model_svc, metrics.classification_report(labels_valid_1D, predicted)))\n",
    "print(\"Confusion matrix:\\n%s\" % metrics.confusion_matrix(labels_valid_1D, predicted))"
   ]
  },
  {
   "cell_type": "markdown",
   "metadata": {},
   "source": [
    "## > Using scikit learn / Random Forests\n",
    "A scikit-learn bagging classifier."
   ]
  },
  {
   "cell_type": "code",
   "execution_count": 89,
   "metadata": {},
   "outputs": [
    {
     "name": "stdout",
     "output_type": "stream",
     "text": [
      "Classification report for RandomForestClassifier(bootstrap=True, class_weight=None, criterion='gini',\n",
      "            max_depth=None, max_features='auto', max_leaf_nodes=None,\n",
      "            min_impurity_decrease=0.0, min_impurity_split=None,\n",
      "            min_samples_leaf=1, min_samples_split=2,\n",
      "            min_weight_fraction_leaf=0.0, n_estimators=10, n_jobs=None,\n",
      "            oob_score=False, random_state=None, verbose=0,\n",
      "            warm_start=False):\n",
      "              precision    recall  f1-score   support\n",
      "\n",
      "          15       0.05      0.04      0.04        47\n",
      "          16       0.07      0.05      0.06        82\n",
      "          42       0.17      0.10      0.13       125\n",
      "          52       0.03      0.09      0.05        23\n",
      "          53       0.00      0.00      0.00         3\n",
      "           6       0.05      0.17      0.08        12\n",
      "          62       0.11      0.08      0.09        52\n",
      "          64       0.00      0.00      0.00         4\n",
      "          65       0.12      0.05      0.07       100\n",
      "          67       0.02      0.06      0.03        18\n",
      "          88       0.05      0.10      0.07        39\n",
      "          90       0.21      0.05      0.09       240\n",
      "          92       0.05      0.08      0.06        26\n",
      "          95       0.00      0.00      0.00        14\n",
      "\n",
      "   micro avg       0.07      0.07      0.07       785\n",
      "   macro avg       0.07      0.06      0.05       785\n",
      "weighted avg       0.13      0.07      0.08       785\n",
      "\n",
      "\n",
      "Confusion matrix:\n",
      "[[ 2  4  5  2  4  3  2  3  4  3  3  8  2  2]\n",
      " [ 5  4  5  6 10  6  6  8  5  2  8  8  5  4]\n",
      " [ 6 10 13  7 10 11  4 13  7 10 10  9  6  9]\n",
      " [ 0  3  2  2  2  0  0  1  4  1  3  1  2  2]\n",
      " [ 0  0  0  1  0  0  0  1  0  0  0  1  0  0]\n",
      " [ 0  0  0  3  0  2  1  0  0  1  0  0  2  3]\n",
      " [ 2  3  9  4  3  2  4  3  2  4  4  6  2  4]\n",
      " [ 1  0  0  0  1  0  0  0  0  0  1  0  0  1]\n",
      " [ 6 11  5  5  8  2  4  9  5  8 15  7  4 11]\n",
      " [ 1  1  2  2  0  1  3  2  0  1  1  1  1  2]\n",
      " [ 3  1  5  4  1  0  3  1  3  3  4  2  4  5]\n",
      " [15 16 30 20 25  9  8 20 12 18 28 13 12 14]\n",
      " [ 1  1  1  3  5  4  0  1  1  0  2  5  2  0]\n",
      " [ 0  1  1  2  3  0  1  1  0  0  2  2  1  0]]\n"
     ]
    }
   ],
   "source": [
    "# Classifier\n",
    "model_RF = RandomForestClassifier()\n",
    "model_RF.fit(data_train_1D, labels_train_1D)\n",
    "\n",
    "# Comparisong with prediction\n",
    "predicted = model_RF.predict(data_valid_1D)\n",
    "\n",
    "print(\"Classification report for %s:\\n%s\\n\"\n",
    "      % (model_RF, metrics.classification_report(labels_valid_1D, predicted)))\n",
    "print(\"Confusion matrix:\\n%s\" % metrics.confusion_matrix(labels_valid_1D, predicted))"
   ]
  },
  {
   "cell_type": "markdown",
   "metadata": {},
   "source": [
    "## > Building a Keras Neural Network classifier\n"
   ]
  },
  {
   "cell_type": "code",
   "execution_count": 90,
   "metadata": {},
   "outputs": [],
   "source": [
    "from tensorflow import keras\n",
    "\n",
    "from keras.models import Sequential\n",
    "from keras.layers import Dense\n",
    "from keras.layers import Convolution1D\n",
    "from keras.layers import Convolution2D\n",
    "from keras.layers import Conv2D\n",
    "from keras.layers import Flatten\n",
    "from keras.layers import MaxPool2D\n",
    "from keras.layers import Dropout\n",
    "\n",
    "from tensorflow.contrib.layers import maxout\n",
    "\n",
    "from keras.utils import np_utils\n",
    "from keras import regularizers\n",
    "from keras import optimizers\n",
    "from sklearn.preprocessing import OneHotEncoder\n",
    "from sklearn.preprocessing import LabelEncoder"
   ]
  },
  {
   "cell_type": "code",
   "execution_count": 91,
   "metadata": {},
   "outputs": [
    {
     "name": "stdout",
     "output_type": "stream",
     "text": [
      "Labels formats for convolutional layers:\n",
      "Train      int label format (?, ?, n_samples, n_channels)         |  (12031, 1)\n",
      "Validation int label format (?, ?, n_samples, n_channels)         |  (785, 1)\n",
      "Test       int label format (?, ?, n_samples, n_channels)         |  (785, 1)\n"
     ]
    }
   ],
   "source": [
    "n_bands = data_train.shape[-1]\n",
    "\n",
    "# >> One hot encoding the class values to tranform the vector of class integers into a binary matrix:\n",
    "int_enc = LabelEncoder()\n",
    "labels_train_int = int_enc.fit_transform(labels_train)\n",
    "labels_valid_int = int_enc.fit_transform(labels_valid)\n",
    "labels_test_int  = int_enc.fit_transform(labels_test)\n",
    "\n",
    "labels_train_int = np.expand_dims(labels_train_int, axis=1)\n",
    "labels_valid_int = np.expand_dims(labels_valid_int, axis=1)\n",
    "labels_test_int  = np.expand_dims(labels_test_int, axis=1)\n",
    "\n",
    "# Replicating the classification for all the bands:\n",
    "#labels_train_int = np.repeat(labels_train_int[:,np.newaxis], n_bands, 1)\n",
    "#labels_valid_int = np.repeat(labels_valid_int[:,np.newaxis], n_bands, 1)\n",
    "#labels_test_int  = np.repeat(labels_test_int[:,np.newaxis], n_bands, 1)\n",
    "\n",
    "oh_enc = OneHotEncoder(sparse=False)\n",
    "labels_train_ohe = oh_enc.fit_transform(labels_train_int)\n",
    "labels_valid_ohe = oh_enc.fit_transform(labels_valid_int)\n",
    "labels_train_ohe = oh_enc.fit_transform(labels_test_int)\n",
    "\n",
    "# uniques, labels_valid = np.unique(labels_valid, return_inverse=True)\n",
    "labels_train_cat = np_utils.to_categorical(labels_train_int)\n",
    "labels_valid_cat = np_utils.to_categorical(labels_valid_int)\n",
    "labels_test_cat  = np_utils.to_categorical(labels_test_int)\n",
    "\n",
    "#n_classes = labels_valid_ohe.shape[1]\n",
    "n_classes = 15\n",
    "# must hard-code this one\n",
    "\n",
    "print(\"Labels formats for convolutional layers:\")\n",
    "\n",
    "print(\"Train      int label format (?, ?, n_samples, n_channels)         | \", labels_train_int.shape)\n",
    "print(\"Validation int label format (?, ?, n_samples, n_channels)         | \", labels_valid_int.shape)\n",
    "print(\"Test       int label format (?, ?, n_samples, n_channels)         | \", labels_test_int.shape)"
   ]
  },
  {
   "cell_type": "code",
   "execution_count": 92,
   "metadata": {},
   "outputs": [
    {
     "name": "stdout",
     "output_type": "stream",
     "text": [
      "Data formats for convolutional layers:\n",
      "Train      4D data format (n_samples,size_x, size_y, n_channels) |  (12031, 32, 32, 6)\n",
      "Validation 4D data format (n_samples,size_x, size_y, n_channels) |  (785, 32, 32, 6)\n",
      "Test       4D data format (n_samples,size_x, size_y, n_channels) |  (785, 32, 32, 6)\n"
     ]
    }
   ],
   "source": [
    "n_pixels = data_train.shape[1] \n",
    "\n",
    "# Formatting data for convolutional layer:\n",
    "n_train_targets = data_train.shape[0]\n",
    "n_valid_targets = data_valid.shape[0]\n",
    "n_test_targets  = data_test.shape[0]\n",
    "\n",
    "#labels_train_int_4D = np.expand_dims(labels_train_int   , axis=0)\n",
    "#labels_train_int_4D = np.expand_dims(labels_train_int_4D, axis=0)\n",
    "#labels_valid_int_4D = np.expand_dims(labels_valid_int   , axis=0)\n",
    "#labels_valid_int_4D = np.expand_dims(labels_valid_int_4D, axis=0)\n",
    "#labels_test_int_4D  = np.expand_dims(labels_test_int    , axis=0)\n",
    "#labels_test_int_4D  = np.expand_dims(labels_test_int_4D , axis=0)\n",
    "\n",
    "\n",
    "print(\"Data formats for convolutional layers:\")\n",
    "\n",
    "print(\"Train      4D data format (n_samples,size_x, size_y, n_channels) | \", data_train.shape)\n",
    "print(\"Validation 4D data format (n_samples,size_x, size_y, n_channels) | \", data_valid.shape)\n",
    "print(\"Test       4D data format (n_samples,size_x, size_y, n_channels) | \", data_test.shape)\n",
    "\n",
    "#print(\"Train      4D label format (?, ?, n_samples, n_channels)         | \", labels_train_int_4D.shape)\n",
    "#print(\"Validation 4D label format (?, ?, n_samples, n_channels)         | \", labels_valid_int_4D.shape)\n",
    "#print(\"Test       4D label format (?, ?, n_samples, n_channels)         | \", labels_test_int_4D.shape)"
   ]
  },
  {
   "cell_type": "code",
   "execution_count": 93,
   "metadata": {},
   "outputs": [
    {
     "name": "stdout",
     "output_type": "stream",
     "text": [
      "Data formats for convolutional layers - 1 band:\n",
      "Train      4D data format (n_samples,size_x, size_y, n_channels) |  (12031, 32, 32, 6)\n",
      "Validation 4D data format (n_samples,size_x, size_y, n_channels) |  (785, 32, 32, 6)\n",
      "Test       4D data format (n_samples,size_x, size_y, n_channels) |  (785, 32, 32, 6)\n"
     ]
    }
   ],
   "source": [
    "# Trying with less bands:\n",
    "\n",
    "n_bands = 6\n",
    "\n",
    "data_train = data_train[:,:,:,:n_bands]\n",
    "data_valid = data_valid[:,:,:,:n_bands]\n",
    "data_test  = data_test [:,:,:,:n_bands]\n",
    "\n",
    "if (n_bands == 1):\n",
    "    data_train = np.expand_dims(data_train, axis=3)\n",
    "    data_valid = np.expand_dims(data_valid, axis=3)\n",
    "    data_test  = np.expand_dims(data_test, axis=3)\n",
    "\n",
    "\n",
    "print(\"Data formats for convolutional layers - 1 band:\")\n",
    "\n",
    "print(\"Train      4D data format (n_samples,size_x, size_y, n_channels) | \", data_train.shape)\n",
    "print(\"Validation 4D data format (n_samples,size_x, size_y, n_channels) | \", data_valid.shape)\n",
    "print(\"Test       4D data format (n_samples,size_x, size_y, n_channels) | \", data_test.shape)"
   ]
  },
  {
   "cell_type": "markdown",
   "metadata": {},
   "source": [
    "### Convolutional 2D layers\n",
    "\n",
    "Not working with 'mean_squared_error' loss \n",
    "\n",
    "Loss function gets stuck when using 'softmax' activation"
   ]
  },
  {
   "cell_type": "code",
   "execution_count": 94,
   "metadata": {},
   "outputs": [
    {
     "name": "stdout",
     "output_type": "stream",
     "text": [
      "_________________________________________________________________\n",
      "Layer (type)                 Output Shape              Param #   \n",
      "=================================================================\n",
      "conv2d_3 (Conv2D)            (None, 16, 16, 8)         776       \n",
      "_________________________________________________________________\n",
      "conv2d_4 (Conv2D)            (None, 8, 8, 16)          2064      \n",
      "_________________________________________________________________\n",
      "max_pooling2d_2 (MaxPooling2 (None, 4, 4, 16)          0         \n",
      "_________________________________________________________________\n",
      "conv2d_5 (Conv2D)            (None, 4, 4, 32)          2080      \n",
      "_________________________________________________________________\n",
      "max_pooling2d_3 (MaxPooling2 (None, 2, 2, 32)          0         \n",
      "_________________________________________________________________\n",
      "flatten_1 (Flatten)          (None, 128)               0         \n",
      "_________________________________________________________________\n",
      "dense_2 (Dense)              (None, 128)               16512     \n",
      "_________________________________________________________________\n",
      "dropout_1 (Dropout)          (None, 128)               0         \n",
      "_________________________________________________________________\n",
      "dense_3 (Dense)              (None, 15)                1935      \n",
      "=================================================================\n",
      "Total params: 23,367\n",
      "Trainable params: 23,367\n",
      "Non-trainable params: 0\n",
      "_________________________________________________________________\n"
     ]
    }
   ],
   "source": [
    "# Best for SDSS:\n",
    "#\n",
    "#model_Conv = keras.Sequential([\n",
    "#                          keras.layers.Conv2D(8, kernel_size=(4,4), strides=(2,2), padding='same',\n",
    "#                                              activation=tf.nn.relu, input_shape=(n_pixels,n_pixels,1)),\n",
    "#                          keras.layers.MaxPool2D(pool_size=(2,2), strides=(2,2)),\n",
    "#                          keras.layers.Conv2D(64, kernel_size=(2,2), strides=(1,1), padding='same',\n",
    "#                                              activation=tf.nn.relu),\n",
    "#                          keras.layers.MaxPool2D(pool_size=(2,2), strides=(2,2)),\n",
    "#                          keras.layers.Conv2D(128, kernel_size=(2,2), strides=(1,1), padding='same',\n",
    "#                                              activation=tf.nn.relu),\n",
    "#                          keras.layers.MaxPool2D(pool_size=(2,2), strides=(2,2)),\n",
    "#                          #keras.layers.Dropout(0.3),\n",
    "#                          keras.layers.Flatten(),\n",
    "#                          keras.layers.Dense(10, activation=tf.nn.sigmoid),\n",
    "#                          keras.layers.Dropout(0.3),\n",
    "#                          keras.layers.Dense(n_classes, activation=tf.nn.sigmoid)\n",
    "#                          ])\n",
    "\n",
    "model_Conv = keras.Sequential([\n",
    "                          keras.layers.Conv2D(8, kernel_size=(4,4), strides=(2,2), padding='same',\n",
    "                                              activation=tf.nn.relu, input_shape=(n_pixels,n_pixels,n_bands),\n",
    "                                              data_format=\"channels_last\"),\n",
    "#                          keras.layers.Dropout(0.2),\n",
    "#                          keras.layers.MaxPool2D(pool_size=(2,2), strides=(2,2)),\n",
    "                          keras.layers.Conv2D(16, kernel_size=(4,4), strides=(2,2), padding='same',\n",
    "                                              activation=tf.nn.relu),\n",
    "                          keras.layers.MaxPool2D(pool_size=(2,2), strides=(2,2)),\n",
    "                          keras.layers.Conv2D(32, kernel_size=(2,2), strides=(1,1), padding='same',\n",
    "                                              activation=tf.nn.relu),\n",
    "                          #keras.layers.MaxPool2D(pool_size=(2,2), strides=(2,2)),\n",
    "#                          keras.layers.Dropout(0.2),\n",
    "                          keras.layers.MaxPool2D(pool_size=(2,2), strides=(2,2)),\n",
    "                          keras.layers.Flatten(),\n",
    "                          keras.layers.Dense(128, activation=tf.nn.sigmoid),\n",
    "                          keras.layers.Dropout(0.3),\n",
    "                          keras.layers.Dense(n_classes, activation=tf.nn.sigmoid)\n",
    "                          ])\n",
    "\n",
    "model_Conv.compile(optimizer=tf.train.AdamOptimizer(learning_rate=0.001), \n",
    "                  loss='sparse_categorical_crossentropy',\n",
    "                  metrics=['accuracy'])\n",
    "\n",
    "model_Conv.summary()"
   ]
  },
  {
   "cell_type": "code",
   "execution_count": 95,
   "metadata": {},
   "outputs": [
    {
     "name": "stdout",
     "output_type": "stream",
     "text": [
      "Train on 12031 samples, validate on 785 samples\n",
      "Epoch 1/50\n",
      " - 2s - loss: 2.6929 - acc: 0.0716 - val_loss: 2.6306 - val_acc: 0.1401\n",
      "Epoch 2/50\n",
      " - 2s - loss: 2.6414 - acc: 0.0721 - val_loss: 2.6371 - val_acc: 0.0917\n",
      "Epoch 3/50\n",
      " - 2s - loss: 2.6403 - acc: 0.0790 - val_loss: 2.6445 - val_acc: 0.0535\n",
      "Epoch 4/50\n",
      " - 2s - loss: 2.6395 - acc: 0.0746 - val_loss: 2.6478 - val_acc: 0.0140\n",
      "Epoch 5/50\n",
      " - 2s - loss: 2.6380 - acc: 0.0813 - val_loss: 2.6384 - val_acc: 0.1299\n",
      "Epoch 6/50\n",
      " - 2s - loss: 2.6389 - acc: 0.0741 - val_loss: 2.6425 - val_acc: 0.1503\n",
      "Epoch 7/50\n",
      " - 2s - loss: 2.6375 - acc: 0.0806 - val_loss: 2.6402 - val_acc: 0.1541\n",
      "Epoch 8/50\n",
      " - 2s - loss: 2.6383 - acc: 0.0756 - val_loss: 2.6409 - val_acc: 0.1592\n",
      "Epoch 9/50\n",
      " - 2s - loss: 2.6377 - acc: 0.0786 - val_loss: 2.6428 - val_acc: 0.1592\n",
      "Epoch 10/50\n",
      " - 2s - loss: 2.6364 - acc: 0.0780 - val_loss: 2.6444 - val_acc: 0.1592\n",
      "Epoch 11/50\n",
      " - 2s - loss: 2.6369 - acc: 0.0795 - val_loss: 2.6391 - val_acc: 0.1592\n",
      "Epoch 12/50\n",
      " - 2s - loss: 2.6373 - acc: 0.0797 - val_loss: 2.6388 - val_acc: 0.1592\n",
      "Epoch 13/50\n",
      " - 2s - loss: 2.6368 - acc: 0.0829 - val_loss: 2.6422 - val_acc: 0.1592\n",
      "Epoch 14/50\n",
      " - 2s - loss: 2.6370 - acc: 0.0806 - val_loss: 2.6456 - val_acc: 0.1592\n",
      "Epoch 15/50\n",
      " - 2s - loss: 2.6366 - acc: 0.0796 - val_loss: 2.6383 - val_acc: 0.1592\n",
      "Epoch 16/50\n",
      " - 2s - loss: 2.6367 - acc: 0.0814 - val_loss: 2.6437 - val_acc: 0.1592\n",
      "Epoch 17/50\n",
      " - 2s - loss: 2.6369 - acc: 0.0787 - val_loss: 2.6488 - val_acc: 0.1592\n",
      "Epoch 18/50\n",
      " - 2s - loss: 2.6351 - acc: 0.0804 - val_loss: 2.6429 - val_acc: 0.1592\n",
      "Epoch 19/50\n",
      " - 2s - loss: 2.6348 - acc: 0.0831 - val_loss: 2.6449 - val_acc: 0.1592\n",
      "Epoch 20/50\n",
      " - 2s - loss: 2.6365 - acc: 0.0800 - val_loss: 2.6403 - val_acc: 0.1592\n",
      "Epoch 21/50\n",
      " - 2s - loss: 2.6350 - acc: 0.0828 - val_loss: 2.6468 - val_acc: 0.1592\n",
      "Epoch 22/50\n",
      " - 2s - loss: 2.6347 - acc: 0.0818 - val_loss: 2.6403 - val_acc: 0.1592\n",
      "Epoch 23/50\n",
      " - 2s - loss: 2.6343 - acc: 0.0814 - val_loss: 2.6380 - val_acc: 0.1592\n",
      "Epoch 24/50\n",
      " - 2s - loss: 2.6328 - acc: 0.0815 - val_loss: 2.6420 - val_acc: 0.1618\n",
      "Epoch 25/50\n",
      " - 2s - loss: 2.6320 - acc: 0.0815 - val_loss: 2.6502 - val_acc: 0.1707\n",
      "Epoch 26/50\n",
      " - 2s - loss: 2.6323 - acc: 0.0789 - val_loss: 2.6398 - val_acc: 0.1669\n",
      "Epoch 27/50\n",
      " - 2s - loss: 2.6300 - acc: 0.0825 - val_loss: 2.6436 - val_acc: 0.1720\n",
      "Epoch 28/50\n",
      " - 2s - loss: 2.6297 - acc: 0.0804 - val_loss: 2.6412 - val_acc: 0.1847\n",
      "Epoch 29/50\n",
      " - 2s - loss: 2.6293 - acc: 0.0839 - val_loss: 2.6540 - val_acc: 0.1389\n",
      "Epoch 30/50\n",
      " - 2s - loss: 2.6273 - acc: 0.0805 - val_loss: 2.6360 - val_acc: 0.1605\n",
      "Epoch 31/50\n",
      " - 2s - loss: 2.6267 - acc: 0.0872 - val_loss: 2.6523 - val_acc: 0.1363\n",
      "Epoch 32/50\n",
      " - 2s - loss: 2.6267 - acc: 0.0865 - val_loss: 2.6517 - val_acc: 0.1401\n",
      "Epoch 33/50\n",
      " - 2s - loss: 2.6242 - acc: 0.0858 - val_loss: 2.6416 - val_acc: 0.1312\n",
      "Epoch 34/50\n",
      " - 2s - loss: 2.6216 - acc: 0.0879 - val_loss: 2.6545 - val_acc: 0.1427\n",
      "Epoch 35/50\n",
      " - 13648s - loss: 2.6218 - acc: 0.0835 - val_loss: 2.6426 - val_acc: 0.1465\n",
      "Epoch 36/50\n",
      " - 2s - loss: 2.6193 - acc: 0.0913 - val_loss: 2.6546 - val_acc: 0.0675\n",
      "Epoch 37/50\n",
      " - 2s - loss: 2.6172 - acc: 0.0882 - val_loss: 2.6490 - val_acc: 0.0764\n",
      "Epoch 38/50\n",
      " - 2s - loss: 2.6176 - acc: 0.0914 - val_loss: 2.6590 - val_acc: 0.0879\n",
      "Epoch 39/50\n",
      " - 2s - loss: 2.6128 - acc: 0.0978 - val_loss: 2.6697 - val_acc: 0.0459\n",
      "Epoch 40/50\n",
      " - 7616s - loss: 2.6107 - acc: 0.0933 - val_loss: 2.6615 - val_acc: 0.0293\n",
      "Epoch 41/50\n",
      " - 2s - loss: 2.6079 - acc: 0.0938 - val_loss: 2.6656 - val_acc: 0.0484\n",
      "Epoch 42/50\n",
      " - 2s - loss: 2.6040 - acc: 0.0983 - val_loss: 2.6664 - val_acc: 0.0650\n",
      "Epoch 43/50\n",
      " - 2s - loss: 2.6027 - acc: 0.1017 - val_loss: 2.6785 - val_acc: 0.0548\n",
      "Epoch 44/50\n",
      " - 2s - loss: 2.5984 - acc: 0.1010 - val_loss: 2.6885 - val_acc: 0.0510\n",
      "Epoch 45/50\n",
      " - 2s - loss: 2.5967 - acc: 0.1007 - val_loss: 2.6704 - val_acc: 0.0510\n",
      "Epoch 46/50\n",
      " - 2s - loss: 2.5920 - acc: 0.1099 - val_loss: 2.6676 - val_acc: 0.0662\n",
      "Epoch 47/50\n",
      " - 2s - loss: 2.5918 - acc: 0.1041 - val_loss: 2.6837 - val_acc: 0.0497\n",
      "Epoch 48/50\n",
      " - 2s - loss: 2.5874 - acc: 0.1114 - val_loss: 2.6531 - val_acc: 0.0803\n",
      "Epoch 49/50\n",
      " - 2s - loss: 2.5831 - acc: 0.1097 - val_loss: 2.6729 - val_acc: 0.0535\n",
      "Epoch 50/50\n",
      " - 2s - loss: 2.5813 - acc: 0.1108 - val_loss: 2.6699 - val_acc: 0.0624\n"
     ]
    }
   ],
   "source": [
    "history_Conv = model_Conv.fit(data_train, labels_train_int, validation_data=(data_valid, labels_valid_int),\n",
    "                    epochs=50, batch_size=256, verbose=2)"
   ]
  },
  {
   "cell_type": "code",
   "execution_count": 84,
   "metadata": {},
   "outputs": [
    {
     "data": {
      "image/png": "[encoded data removed]",
      "text/plain": [
       "<Figure size 432x288 with 1 Axes>"
      ]
     },
     "metadata": {
      "needs_background": "light"
     },
     "output_type": "display_data"
    },
    {
     "name": "stdout",
     "output_type": "stream",
     "text": [
      "Number of different classes in train sample: 14\n",
      "Number of different classes in valid sample: 14\n",
      "Number of different classes in test  sample: 14\n",
      "\n",
      "WARNING: A disply error can occur if the represented classes differ in the train/valid/test sets.\n",
      "         If so, increase the samples.\n",
      "Classification report for <tensorflow.python.keras.engine.sequential.Sequential object at 0x7f69bdc06eb8>:\n",
      "              precision    recall  f1-score   support\n",
      "\n",
      "          15       0.05      0.07      0.06        57\n",
      "          16       0.00      0.00      0.00        88\n",
      "          42       0.18      0.18      0.18       110\n",
      "          52       0.00      0.00      0.00        16\n",
      "          53       0.01      0.50      0.01         2\n",
      "           6       0.08      0.11      0.10        18\n",
      "          62       0.08      0.07      0.07        45\n",
      "          64       0.03      0.08      0.05        13\n",
      "          65       0.33      0.02      0.04        93\n",
      "          67       0.06      0.03      0.04        32\n",
      "          88       0.06      0.20      0.09        40\n",
      "          90       0.40      0.03      0.05       219\n",
      "          92       0.02      0.04      0.02        25\n",
      "          95       0.01      0.04      0.02        27\n",
      "\n",
      "   micro avg       0.06      0.06      0.06       785\n",
      "   macro avg       0.09      0.10      0.05       785\n",
      "weighted avg       0.19      0.06      0.06       785\n",
      "\n",
      "\n",
      "Confusion matrix:\n",
      "[[ 4  2  8  0 17  2  5  2  1  1  8  2  1  4]\n",
      " [16  0 10  0 14  1  1  3  0  0 10  1 11 21]\n",
      " [12  2 20  3 23  0  6  1  0  0 28  3  7  5]\n",
      " [ 2  1  4  0  2  1  0  0  0  0  2  1  1  2]\n",
      " [ 0  0  0  0  1  0  0  1  0  0  0  0  0  0]\n",
      " [ 0  0  2  0  5  2  1  1  1  0  6  0  0  0]\n",
      " [ 4  2  4  2  8  3  3  1  0  0  7  1  4  6]\n",
      " [ 0  1  3  0  3  0  0  1  0  0  1  0  2  2]\n",
      " [ 4  0 18  0 18  3  2  5  2  1 17  0  8 15]\n",
      " [ 4  0  6  0  5  1  2  2  0  1  2  0  6  3]\n",
      " [ 2  0  4  1  8  0  2  1  0  4  8  0  3  7]\n",
      " [29  2 28  2 29  8  9 11  0  9 48  6 13 25]\n",
      " [ 0  0  2  0  6  1  4  1  2  1  4  0  1  3]\n",
      " [ 2  1  4  0  7  2  4  1  0  0  4  1  0  1]]\n",
      "Examples of misclassified images:\n"
     ]
    },
    {
     "data": {
      "image/png": "[encoded data removed]",
      "text/plain": [
       "<Figure size 1080x720 with 10 Axes>"
      ]
     },
     "metadata": {
      "needs_background": "light"
     },
     "output_type": "display_data"
    }
   ],
   "source": [
    "# > Model evolution:\n",
    "plt.plot(history_Conv.history['loss'])\n",
    "plt.plot(history_Conv.history['val_loss'])\n",
    "plt.title('model train vs validation loss')\n",
    "plt.ylabel('loss')\n",
    "plt.xlabel('epoch')\n",
    "plt.legend(['train', 'validation'], loc='upper right')\n",
    "plt.show()\n",
    "\n",
    "\n",
    "print('Number of different classes in train sample: ' + str(len(np.unique(labels_train))))\n",
    "print('Number of different classes in valid sample: ' + str(len(np.unique(labels_valid))))\n",
    "print('Number of different classes in test  sample: ' + str(len(np.unique(labels_test))))\n",
    "print('')\n",
    "print('WARNING: A disply error can occur if the represented classes differ in the train/valid/test sets.')\n",
    "print('         If so, increase the samples.')\n",
    "\n",
    "\n",
    "# > Comparison with predictions:\n",
    "labels_pred_float_Conv = model_Conv.predict(data_test)\n",
    "\n",
    "labels_pred_Conv = int_enc.inverse_transform(labels_pred_float_Conv.argmax(1))\n",
    "# reversing one hot encoding\n",
    "\n",
    "\n",
    "print(\"Classification report for %s:\\n%s\\n\"\n",
    "      % (model_Conv, metrics.classification_report(labels_test, labels_pred_Conv)))\n",
    "print(\"Confusion matrix:\\n%s\" % metrics.confusion_matrix(labels_test, labels_pred_Conv))\n",
    "\n",
    "\n",
    "# > Plotting a few misclassified images (wrong labels):\n",
    "\n",
    "print('Examples of misclassified images:')\n",
    "\n",
    "# equivalent(?): indexes_wrong = np.nonzero(labels_pred_Conv != labels_test_int)\n",
    "indexes_wrong = [labels_pred_Conv != labels_test]\n",
    "# indexes of misclassified objects <indexed within range(data_test) or range(labels_pred_*)>\n",
    "\n",
    "labels_pred_int_Conv = labels_pred_float_Conv.argmax(1)\n",
    "\n",
    "data_test_wrong            = data_test[indexes_wrong]\n",
    "labels_test_int_wrong      = labels_test_int[indexes_wrong]\n",
    "labels_pred_int_Conv_wrong = labels_pred_int_Conv[indexes_wrong]\n",
    "\n",
    "fig = plt.figure(figsize=(15,10))\n",
    "plt.subplots_adjust(hspace=0.25,wspace=0.05)\n",
    "\n",
    "       \n",
    "for i in range(10):\n",
    "    plt.subplot(2, 5, i + 1)\n",
    "    plt.axis('off')\n",
    "    image_wrong = (data_test_wrong[i,:,:,0].reshape(n_pixels,n_pixels))\n",
    "    # using only first band in array\n",
    "    \n",
    "    vmin,vmax = np.percentile(image_wrong.flatten(),[1,99])\n",
    "    # min and max are set as percentiles for each image\n",
    "\n",
    "    plt.imshow(image_wrong, vmin=vmin, vmax=vmax, interpolation='nearest')\n",
    "    plt.title('label = %s | pred = %s' % (labels_unique[labels_test_int_wrong[i][0]] , labels_unique[labels_pred_int_Conv_wrong[i]]))\n",
    "\n"
   ]
  },
  {
   "cell_type": "markdown",
   "metadata": {},
   "source": [
    "https://machinelearningmastery.com/handwritten-digit-recognition-using-convolutional-neural-networks-python-keras/\n",
    "\n",
    "## Using Tensorflow\n",
    "https://github.com/aymericdamien/TensorFlow-Examples/blob/master/notebooks/3_NeuralNetworks/neural_network_raw.ipynb\n",
    "\n",
    "https://github.com/aymericdamien/TensorFlow-Examples/blob/master/notebooks/3_NeuralNetworks/neural_network.ipynb"
   ]
  },
  {
   "cell_type": "code",
   "execution_count": null,
   "metadata": {},
   "outputs": [],
   "source": []
  },
  {
   "cell_type": "markdown",
   "metadata": {},
   "source": [
    "## Final check \n",
    "Using the test sample for a final check of the various algorithms used above. \n",
    "\n",
    "Checking if their performance is as good as it is reported in the validation process."
   ]
  },
  {
   "cell_type": "code",
   "execution_count": null,
   "metadata": {},
   "outputs": [],
   "source": [
    "#print(\"====================================================================================\")\n",
    "# Predictions for SVM:\n",
    "#predicted = model_svc.predict(data_test)\n",
    "#print(\"Classification report for %s:\\n%s\\n\"\n",
    "#      % (model_svc, metrics.classification_report(labels_test, predicted)))\n",
    "#print(\"Confusion matrix:\\n%s \\n\" % metrics.confusion_matrix(labels_test, predicted))\n",
    "#print(\"====================================================================================\")\n",
    "\n",
    "# Predictions for LogisticRegression:\n",
    "#predicted = model_svc.predict(data_test)\n",
    "#print(\"Classification report for %s:\\n%s\\n\"\n",
    "#      % (model_lrc, metrics.classification_report(labels_test, predicted)))\n",
    "#print(\"Confusion matrix:\\n%s \\n\" % metrics.confusion_matrix(labels_test, predicted))\n",
    "#print(\"====================================================================================\")\n",
    "\n",
    "# Predictions for MLP:\n",
    "#predicted = model_MLP.predict(data_test)\n",
    "#print(\"Classification report for %s:\\n%s\\n\"\n",
    "#      % (model_MLP, metrics.classification_report(labels_test, predicted)))\n",
    "#print(\"Confusion matrix:\\n%s \\n\" % metrics.confusion_matrix(labels_test, predicted))\n",
    "#print(\"====================================================================================\")\n",
    "\n",
    "# Predictions for RandomForests:\n",
    "#predicted = model_RF.predict(data_test)\n",
    "#print(\"Classification report for %s:\\n%s\\n\"\n",
    "#      % (model_RF, metrics.classification_report(labels_test, predicted)))\n",
    "#print(\"Confusion matrix:\\n%s \\n\" % metrics.confusion_matrix(labels_test, predicted))\n",
    "#print(\"====================================================================================\")\n",
    "\n",
    "# Predictions for Keras 1D Neural Network:\n",
    "#labels_pred_float_1D = model_1D.predict(data_test)\n",
    "#labels_pred_1D = int_enc.inverse_transform(labels_pred_float_1D.argmax(1))\n",
    "#print(\"Classification report for %s:\\n%s\\n\"\n",
    "#      % (model_1D, metrics.classification_report(labels_test, labels_pred_1D)))\n",
    "#print(\"Confusion matrix:\\n%s\" % metrics.confusion_matrix(labels_test, labels_pred_1D))\n",
    "#print(\"====================================================================================\")\n",
    "\n",
    "# Predictions for Keras Convolutional Neural Network:\n",
    "labels_pred_float_Conv = model_Conv.predict(data_test)\n",
    "labels_pred_Conv = int_enc.inverse_transform(labels_pred_float_Conv.argmax(1))\n",
    "print(\"Classification report for %s:\\n%s\\n\"\n",
    "      % (model_Conv, metrics.classification_report(labels_test, labels_pred_Conv)))\n",
    "print(\"Confusion matrix:\\n%s\" % metrics.confusion_matrix(labels_test, labels_pred_Conv))\n",
    "print(\"====================================================================================\")"
   ]
  },
  {
   "cell_type": "markdown",
   "metadata": {},
   "source": [
    "# Saving the trained models\n",
    "Using pickle we can save the trained models to use them in a later time w/o the need to re-train them."
   ]
  },
  {
   "cell_type": "code",
   "execution_count": null,
   "metadata": {},
   "outputs": [],
   "source": [
    "#import pickle\n",
    "#import os\n",
    "\n",
    "## saving the models to disk\n",
    "#folder_saved = \"saved_models/v2.1\"\n",
    "\n",
    "#model_labels = ['SVC','LogReg','MLP','RandFor','Ker_1D','Ker_Conv']\n",
    "#models = ['model_SVC','model_LR','model_MLP','model_RF','model_1D','model_Conv']\n",
    "\n",
    "#if not os.path.exists(folder_saved):\n",
    "#    os.makedirs(folder_saved)\n",
    "    \n",
    "#for modstr,model in zip(model_labels,models):\n",
    "#    pickle.dump(model, open(folder_saved+'/galaxy_classification_SDSS_v1_'+modstr+'.sav', 'wb'))\n",
    "\n",
    "\n",
    "# To load the models at a later time:\n",
    "# loaded_model = pickle.load(open(filename, 'rb'))\n",
    "# result = loaded_model.score(X_test, Y_test)\n",
    "# print(result)"
   ]
  },
  {
   "cell_type": "code",
   "execution_count": null,
   "metadata": {},
   "outputs": [],
   "source": []
  }
 ],
 "metadata": {
  "kernelspec": {
   "display_name": "Python 3",
   "language": "python",
   "name": "python3"
  },
  "language_info": {
   "codemirror_mode": {
    "name": "ipython",
    "version": 3
   },
   "file_extension": ".py",
   "mimetype": "text/x-python",
   "name": "python",
   "nbconvert_exporter": "python",
   "pygments_lexer": "ipython3",
   "version": "3.6.7"
  }
 },
 "nbformat": 4,
 "nbformat_minor": 2
}
