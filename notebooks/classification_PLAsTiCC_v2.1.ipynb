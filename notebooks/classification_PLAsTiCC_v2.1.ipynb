{
 "cells": [
  {
   "cell_type": "markdown",
   "metadata": {},
   "source": [
    "# PLAsTiCC time series classification\n",
    "This is a ML code that performs classification of the time series from the Photometric LSST Astronomical Time-Series Classification Challenge (PLAsTiCC; https://www.kaggle.com/c/PLAsTiCC-2018). A sample representation of the data is provided after loading the data.\n",
    "\n",
    "Labels are provided for the training set.\n",
    "\n",
    "The steps are the following: <br>\n",
    "1. Import libraries and sample\n",
    "2. Split sub-samples (training, validation, testing)\n",
    "3. Fit with various classifier and check performance\n",
    "4. Compare various classifiers in testing sample\n",
    "\n",
    "The alternative classifiers provide first guesses on the expected accuracy"
   ]
  },
  {
   "cell_type": "markdown",
   "metadata": {},
   "source": [
    "## Loading Data"
   ]
  },
  {
   "cell_type": "code",
   "execution_count": 2,
   "metadata": {},
   "outputs": [],
   "source": [
    "# Importing Libraries\n",
    "import numpy as np\n",
    "import tensorflow as tf\n",
    "import matplotlib.pyplot as plt\n",
    "from sklearn import datasets, utils, metrics\n",
    "from sklearn.svm import LinearSVC\n",
    "from sklearn.svm import NuSVC\n",
    "from sklearn.linear_model import LogisticRegression\n",
    "from sklearn.neural_network import MLPClassifier\n",
    "from sklearn.ensemble import RandomForestClassifier\n",
    "\n",
    "import warnings\n",
    "warnings.simplefilter('ignore')"
   ]
  },
  {
   "cell_type": "code",
   "execution_count": 3,
   "metadata": {},
   "outputs": [],
   "source": [
    "path_to_data = \"/data/deep_learning/database_PLAsTiCC/training_data_v1\""
   ]
  },
  {
   "cell_type": "code",
   "execution_count": 4,
   "metadata": {},
   "outputs": [
    {
     "name": "stderr",
     "output_type": "stream",
     "text": [
      "[========================================================================] 100%\n"
     ]
    }
   ],
   "source": [
    "import glob\n",
    "files = sorted(glob.glob(path_to_data + \"/*.npy\"))\n",
    "\n",
    "import progressbar\n",
    "\n",
    "\n",
    "#restore:\n",
    "n_files = len(files)\n",
    "#debug:n_files = 1000\n",
    "\n",
    "\n",
    "# > Loading series / labels:\n",
    "# <indexed as ID array>\n",
    "    \n",
    "IDs   = []\n",
    "# ID number (without \"id-\")\n",
    "bands = []\n",
    "# band name (without \"band-\") [0 .. 5]\n",
    "\n",
    "series = []\n",
    "labels = []\n",
    "\n",
    "Duration_MJDs = []\n",
    "# array of duration of light curves\n",
    "\n",
    "bar = progressbar.ProgressBar(maxval=n_files, widgets=[progressbar.Bar('=', '[', ']'), ' ', progressbar.Percentage()])\n",
    "bar.start()\n",
    "for i in range(n_files):\n",
    "\n",
    "    bar.update(i+1)\n",
    "    \n",
    "    tmp = np.load(files[i])\n",
    "\n",
    "    IDs.append(files[i].split(\"/\")[-1].split(\"_\")[0].strip(\"id-\"))\n",
    "    bands.append(int(files[i].split(\"/\")[-1].split(\"_\")[1].strip(\"band-\")))\n",
    "\n",
    "    band = int(bands[-1])\n",
    "    # current band index [0 .. 6]\n",
    "    \n",
    "    series.append(tmp)\n",
    "    labels.append(files[i].split(\"/\")[-1].split(\"-\")[-1].strip(\".npy\"))\n",
    "\n",
    "    \n",
    "    # > Loading single data files:\n",
    "    #\n",
    "    # Data format:\n",
    "    #\n",
    "    # Modified Juilian Date, Flux, err_Flux, Detected (flag)\n",
    "\n",
    "    MJD = series[-1][:,0]\n",
    "    # Modified Julian Date\n",
    "    \n",
    "    #F = series[-1][:,1]\n",
    "    # flux\n",
    "        \n",
    "    #F_err = series[-1][:,2]\n",
    "    # flux error\n",
    "    \n",
    "    \n",
    "    Duration_MJDs.append(MJD[-1] - MJD[0])\n",
    "\n",
    "bar.finish()\n",
    "\n"
   ]
  },
  {
   "cell_type": "code",
   "execution_count": 5,
   "metadata": {},
   "outputs": [
    {
     "name": "stdout",
     "output_type": "stream",
     "text": [
      "Number of individual targets: 7848\n"
     ]
    }
   ],
   "source": [
    "IDs_unique = np.unique(IDs)\n",
    "# list of target IDs, without repetitions\n",
    "\n",
    "labels_unique = ['' for x in range(len(IDs_unique))]\n",
    "# list of target labels, without repetitions <indexed as IDs_unique>\n",
    "\n",
    "print('Number of individual targets: ' + str(len(IDs_unique)))"
   ]
  },
  {
   "cell_type": "markdown",
   "metadata": {},
   "source": [
    "## Converting series to images"
   ]
  },
  {
   "cell_type": "code",
   "execution_count": 6,
   "metadata": {},
   "outputs": [
    {
     "name": "stderr",
     "output_type": "stream",
     "text": [
      "[========================================================================] 100%\r"
     ]
    },
    {
     "name": "stdout",
     "output_type": "stream",
     "text": [
      "Shape of data: (7848, 32, 32, 6)\n"
     ]
    },
    {
     "name": "stderr",
     "output_type": "stream",
     "text": [
      "\n"
     ]
    }
   ],
   "source": [
    "# The conversion happens in two steps:\n",
    "#\n",
    "# 1) Splitting a time series over a number of pixels (n_pixels)\n",
    "#\n",
    "#    The pixel number is chosen arbitrarily, and corresponds to the maximum time duration\n",
    "#    (i.e. to the duration of the longest series).\n",
    "#    Hence, a pixel corresponds to a given time interval.\n",
    "#    The number of pixels (= time) covered by a series is calculated accordingly to its duration.\n",
    "#    The series are block-averaged (binned) within each time interval (pixel); empty pixels are attributed a 0.\n",
    "#\n",
    "# 2) Converting data into a matrix of flux \"ratios\"\n",
    "#\n",
    "#    The ratios of the fluxes of each pixel with respect to the fluxes of all the other pixels\n",
    "#    are organized in a n_pixels x n_pixels matrix, of the type:\n",
    "#\n",
    "#   [1             , (F_1 / F_2)  , ..       , ..       , (F_1 / F_N)  ]\n",
    "#   [(F_2 / F_1)   , 1            , ..       , ..       , (F_2 / F_N)  ]\n",
    "#   [..            , ..           , 1        , ..       , ..           ]\n",
    "#   [(F_N-1 / F_1) , ..           , ..       , 1        , (F_N-1 / F_N)]\n",
    "#   [(F_N / F_1)   , ..           , ..       , ..       , 1            ]\n",
    "\n",
    "n_pixels = 32\n",
    "n_bands  = 6\n",
    "\n",
    "Duration_MAX = np.max(Duration_MJDs)\n",
    "# longest duration of time series [MDJ]\n",
    "\n",
    "deltaT_per_pixel = Duration_MAX / n_pixels\n",
    "# time interval within a pixel of the new, resampled images [MJD/pixel]\n",
    "# NOTE: this is defined with respect to the largest duration\n",
    "# NOTE: final images will have 64 x 64 pixels\n",
    "\n",
    "data = np.zeros( (len(IDs_unique) , n_pixels , n_pixels , n_bands ) )\n",
    "# data array < n_targets , image(x,y), bands >\n",
    "# NOTE: The first dimension corresponds to the number of targets <indexed as IDs_unique>\n",
    "\n",
    "\n",
    "\n",
    "bar = progressbar.ProgressBar(maxval=n_files, widgets=[progressbar.Bar('=', '[', ']'), ' ', progressbar.Percentage()])\n",
    "bar.start()\n",
    "for i,serie in enumerate(series):\n",
    "\n",
    "    bar.update(i+1)\n",
    "\n",
    "    band = int(bands[i])\n",
    "    # current band index [0 .. 6]\n",
    "\n",
    "    pixels_image = int(np.ceil( Duration_MJDs[i] / deltaT_per_pixel ))\n",
    "    # number of pixels that the current image will cover in the resampled image\n",
    "\n",
    "    MJD = series[i][:,0]\n",
    "    # Modified Julian Date\n",
    "    \n",
    "    F = series[i][:,1]\n",
    "    # flux\n",
    "    \n",
    "    \n",
    "    F_err = series[i][:,2]\n",
    "    # flux error\n",
    "    \n",
    "    MJD   = np.array(MJD)\n",
    "    F     = np.array(F)\n",
    "    F_err = np.array(F_err)\n",
    "    \n",
    "    F_positive = F + abs(np.min(F))\n",
    "    # shifting values up to have only positive arrays\n",
    "    \n",
    "    F_binned = np.zeros((n_pixels))\n",
    "    # binned flux series\n",
    "    \n",
    "    \n",
    "    # > Binning series - for band b:\n",
    "      \n",
    "    for p in range(pixels_image):\n",
    "    # p = pixel index \n",
    "\n",
    "        (indexes_bin,) = np.where( (p*deltaT_per_pixel <= (MJD - MJD[0])) & ((MJD - MJD[0]) < (p+1)*deltaT_per_pixel) )\n",
    "        # indexes of data points (of series i) within current pixel (bin)\n",
    "        \n",
    "        F_binned[p] = float(np.mean( F_positive[indexes_bin] ))\n",
    "        # flux within current pixel\n",
    "        \n",
    "        np.nan_to_num(F_binned,0)\n",
    "        # (in case no data points were binned, the average is 'nan')\n",
    "\n",
    "        \n",
    "    # > Converting series to image - for band b:\n",
    "        \n",
    "    data_i = np.zeros((n_pixels,n_pixels,n_bands))\n",
    "    # flux ratio matrix for source i\n",
    "    # NOTE: organizing data in a 2D matrix with shape [ len(array) ,  len(array) , channels(= n_bands) ]\n",
    " \n",
    "\n",
    "    for j in range(n_pixels):\n",
    "    # j = row index\n",
    "      \n",
    "        data_i[j,:,band] = ( F_binned[j] / F_binned )\n",
    "\n",
    "        \n",
    "    # > Mirroring matrix across the diagonal:\n",
    "    \n",
    "    data_i_band = data_i[:,:,band]\n",
    "    indexes_lower = np.tril_indices(data_i_band.shape[0], -1)\n",
    "    # indexes of lower part of matrix\n",
    "    data_i_band[indexes_lower] = data_i_band.T[indexes_lower]\n",
    "    # mirroring\n",
    "\n",
    "\n",
    "    # > Removing 'inf' and 'nan':\n",
    "    data_i_band[np.isinf(data_i_band)] = 0\n",
    "    np.nan_to_num(data_i_band,0)\n",
    "    \n",
    "    \n",
    "    # > Normalizing image:\n",
    "    # NOTE: At this point, value are only negative or 0\n",
    "    data_i_band_norm = (data_i_band + abs(np.min(data_i_band))) / np.max(data_i_band + abs(np.min(data_i_band)))\n",
    "\n",
    "\n",
    "    # > Organizing data in proper structure:\n",
    "    \n",
    "    (t,) = np.where(IDs_unique == IDs[i])\n",
    "    t = t[0]\n",
    "    # t = index of target in array of unique IDs\n",
    "    # NOTE: manipulation is because np.where returns a 1-value array instead of a variable\n",
    "\n",
    "    labels_unique[t] = labels[i]\n",
    "    # NOTE: This is over-written 6 times (once per band)\n",
    "    #       But it doesn't matter since all bands share the same classification \n",
    "\n",
    "    band = int(bands[i])\n",
    "    # NOTE: \"bands\" is indexed as \"IDs\"\n",
    "\n",
    "    data[t,:,:,band] = data_i_band_norm\n",
    "    # loading image in corresponding unique (object ID, band) slot  \n",
    "    \n",
    "    \n",
    "bar.finish()\n",
    "  \n",
    "print('Shape of data: ' + str(data.shape))"
   ]
  },
  {
   "cell_type": "markdown",
   "metadata": {},
   "source": [
    "## Display examples of data series of same class over different bands\n"
   ]
  },
  {
   "cell_type": "code",
   "execution_count": 14,
   "metadata": {},
   "outputs": [
    {
     "data": {
      "image/png": "[encoded data removed]",
      "text/plain": [
       "<Figure size 1080x1800 with 18 Axes>"
      ]
     },
     "metadata": {},
     "output_type": "display_data"
    }
   ],
   "source": [
    "# Display some example images\n",
    "\n",
    "n_display = 18\n",
    "# max number of images to be displayed\n",
    "\n",
    "fig = plt.figure(figsize=(15,25))\n",
    "\n",
    "for t,data_t in (enumerate(data)):\n",
    "# t = target index\n",
    "    \n",
    "    for band in range(data_t.shape[2]):\n",
    "    # iterating over the bands for target t\n",
    "    # (they could in principle be different for different targets)\n",
    "\n",
    "        band = int(band)\n",
    "        \n",
    "        image_t_b = data[t,:,:,band]\n",
    "        # image corresponding to a given target t and band\n",
    "        \n",
    "        # Plotting:\n",
    "\n",
    "        p = t*n_bands + band\n",
    "        # p = plot counter\n",
    "        \n",
    "        plt.subplot(10, 6, p + 1)\n",
    "        plt.axis('off')\n",
    "\n",
    "        plt.tight_layout()\n",
    "        \n",
    "        vmin,vmax = np.percentile(image_t_b.flatten(),[1,99])\n",
    "        # min and max are set as percentiles for each image\n",
    "\n",
    "        plt.imshow(image_t_b, vmin=vmin, vmax=vmax, interpolation='nearest')\n",
    "        plt.title(str(IDs_unique[t]) + ' | b ' + str(band) + ' | cl ' + labels_unique[t])\n",
    "        \n",
    "    if p == (n_display-1): break\n"
   ]
  },
  {
   "cell_type": "markdown",
   "metadata": {},
   "source": [
    "## Display average images for same class (and same band)"
   ]
  },
  {
   "cell_type": "code",
   "execution_count": 15,
   "metadata": {},
   "outputs": [
    {
     "name": "stderr",
     "output_type": "stream",
     "text": [
      "[========================================================================] 100%\n"
     ]
    },
    {
     "data": {
      "image/png": "[encoded data removed]",
      "text/plain": [
       "<Figure size 1080x2520 with 84 Axes>"
      ]
     },
     "metadata": {},
     "output_type": "display_data"
    }
   ],
   "source": [
    "fig = plt.figure(figsize=(15,35))\n",
    "\n",
    "labels_list = list(set(labels_unique))\n",
    "labels_list.sort()\n",
    "# list of classes in the data\n",
    "\n",
    "\n",
    "bar = progressbar.ProgressBar(maxval=len(labels_list), widgets=[progressbar.Bar('=', '[', ']'), ' ', progressbar.Percentage()])\n",
    "bar.start()\n",
    "for c in range(len(labels_list)):\n",
    "# c = index of class_list\n",
    "\n",
    "    bar.update(c+1)\n",
    "\n",
    "    for band in range(data_t.shape[2]):\n",
    "    # iterating over the bands for class c\n",
    "\n",
    "        band = int(band)\n",
    "        \n",
    "        if(band >= n_bands):\n",
    "            # in case the number of bands has been reduced for the analysis\n",
    "            continue\n",
    "\n",
    "        (indexes_c,) = np.where(np.array(labels_unique) == labels_list[c])\n",
    "        # indexes of targets with label c\n",
    "    \n",
    "        median_c_band = np.median(data[indexes_c,:,:,band], axis=(0))\n",
    "        # median image for class c and band\n",
    "\n",
    "        \n",
    "        # Plotting:\n",
    "\n",
    "        p = c*n_bands + band\n",
    "        # p = plot counter\n",
    "        \n",
    "        plt.subplot(len(labels_list), n_bands, p + 1)\n",
    "        plt.axis('off')\n",
    "\n",
    "        plt.tight_layout()\n",
    "\n",
    "        vmin,vmax = np.percentile(median_c_band.flatten(),[0.1,99.9])\n",
    "        # min and max are set as percentiles for each image\n",
    "\n",
    "        plt.imshow(median_c_band, vmin=vmin, vmax=vmax, interpolation='nearest')\n",
    "        plt.title('cl ' + labels_list[c] + ' | b ' + str(band))\n",
    "\n",
    "bar.finish()\n"
   ]
  },
  {
   "cell_type": "markdown",
   "metadata": {},
   "source": [
    "## Creating samples\n"
   ]
  },
  {
   "cell_type": "code",
   "execution_count": 16,
   "metadata": {},
   "outputs": [],
   "source": [
    "# Shuffle the samples\n",
    "shuffled_indexes = np.arange(len(IDs_unique))\n",
    "np.random.shuffle(shuffled_indexes)\n",
    "\n",
    "# To reduce the sample size (for testing purposes):\n",
    "# remove: shuffled_indexes = shuffled_indexes[0:1000]\n",
    "# remove: n_samples = len(shuffled_indexes)\n",
    "\n",
    "data = data[shuffled_indexes]\n",
    "labels_unique = list(np.array(labels_unique)[shuffled_indexes])\n",
    "\n",
    "n_samples = len(IDs_unique)"
   ]
  },
  {
   "cell_type": "code",
   "execution_count": 17,
   "metadata": {},
   "outputs": [
    {
     "name": "stdout",
     "output_type": "stream",
     "text": [
      "Sample Summary\n",
      "________________________\n",
      "Total images     |  7848\n",
      "-----------------|------\n",
      " '-> Training    |  6278\n",
      "-----------------|------\n",
      " '-> Validation  |   785\n",
      "-----------------|------\n",
      " '-> Test        |   785\n",
      "\n",
      "Compare these values with the accuracy of each classifier\n",
      "If accuracies are similar to the demographics, the classifier is only mirroring the data\n"
     ]
    }
   ],
   "source": [
    "# Splitting in training, validation, and test samples:\n",
    "data_train = data[:8 * n_samples // 10] # i.e. 80% training\n",
    "labels_train = labels_unique[:8 * n_samples // 10]\n",
    "\n",
    "data_valid = data[8 * n_samples // 10:9 * n_samples // 10] # i.e. 10% validation (80->90%)\n",
    "labels_valid = labels_unique[8 * n_samples // 10:9 * n_samples // 10]\n",
    "\n",
    "data_test = data[9 * n_samples // 10:] # i.e. 10% testing (90->100%)\n",
    "labels_test = labels_unique[9 * n_samples // 10:]\n",
    "\n",
    "#n_train_spiral = len([x for x in labels_train if x == 'spiral'])\n",
    "#n_train_ellipt = len([x for x in labels_train if x == 'ellipt'])\n",
    "\n",
    "#n_valid_spiral = len([x for x in labels_valid if x == 'spiral'])\n",
    "#n_valid_ellipt = len([x for x in labels_valid if x == 'ellipt'])\n",
    "\n",
    "#n_test_spiral = len([x for x in labels_test if x == 'spiral'])\n",
    "#n_test_ellipt = len([x for x in labels_test if x == 'ellipt'])\n",
    "\n",
    "print(\"Sample Summary\")\n",
    "print(\"________________________\")\n",
    "print(\"Total images     | %5s\" % len(data))\n",
    "print(\"-----------------|------\")\n",
    "print(\" '-> Training    | %5s\" % len(data_train))\n",
    "#print(\"      '-> spiral | %5s (%.1f%%)\" % (n_train_spiral , (n_train_spiral/len(data_train)*100.)))\n",
    "#print(\"      '-> ellipt | %5s (%.1f%%)\" % (n_train_ellipt , (n_train_ellipt/len(data_train)*100.)))\n",
    "print(\"-----------------|------\")\n",
    "print(\" '-> Validation  | %5s\" % len(data_valid))\n",
    "#print(\"      '-> spiral | %5s (%.1f%%)\" % (n_valid_spiral , (n_valid_spiral/len(data_valid)*100.)))\n",
    "#print(\"      '-> ellipt | %5s (%.1f%%)\" % (n_valid_ellipt , (n_valid_ellipt/len(data_valid)*100.)))\n",
    "print(\"-----------------|------\")\n",
    "print(\" '-> Test        | %5s\" % len(data_test))\n",
    "#print(\"      '-> spiral | %5s (%.1f%%)\" % (n_test_spiral , (n_test_spiral/len(data_test)*100.)))\n",
    "#print(\"      '-> ellipt | %5s (%.1f%%)\" % (n_test_ellipt , (n_test_ellipt/len(data_test)*100.)))\n",
    "\n",
    "print('')\n",
    "print('Compare these values with the accuracy of each classifier')\n",
    "print('If accuracies are similar to the demographics, the classifier is only mirroring the data')"
   ]
  },
  {
   "cell_type": "markdown",
   "metadata": {},
   "source": [
    "### Converting to 1D for other classifiers"
   ]
  },
  {
   "cell_type": "code",
   "execution_count": 18,
   "metadata": {},
   "outputs": [
    {
     "name": "stdout",
     "output_type": "stream",
     "text": [
      "Shape of train 1D       | (6278, 1024)\n",
      "Shape of valid 1D       | (785, 1024)\n",
      "Shape of label train 1D | 6278\n",
      "Shape of label valid 1D | 785\n"
     ]
    }
   ],
   "source": [
    "# Converting to 1D:\n",
    "\n",
    "# Using only band 0, and compressing dimensions into 1:\n",
    "data_train_1D = data_train[:,:,:,0].reshape(len(data_train),n_pixels*n_pixels)\n",
    "data_valid_1D = data_valid[:,:,:,0].reshape(len(data_valid),n_pixels*n_pixels)\n",
    "\n",
    "labels_train_1D = labels_train\n",
    "labels_valid_1D = labels_valid \n",
    "\n",
    "print('Shape of train 1D       | ' + str(data_train_1D.shape))\n",
    "print('Shape of valid 1D       | ' + str(data_valid_1D.shape))\n",
    "\n",
    "print('Shape of label train 1D | ' + str(len(labels_train_1D)))\n",
    "print('Shape of label valid 1D | ' + str(len(labels_valid_1D)))"
   ]
  },
  {
   "cell_type": "markdown",
   "metadata": {},
   "source": [
    "## > Using scikit-learn / SVM classifier\n",
    "Classical Support Vector Machines classifier\n",
    "NOTE: The non-linear kernel is extremely slow"
   ]
  },
  {
   "cell_type": "code",
   "execution_count": 92,
   "metadata": {},
   "outputs": [
    {
     "name": "stdout",
     "output_type": "stream",
     "text": [
      "Classification report for LinearSVC(C=1.0, class_weight=None, dual=True, fit_intercept=True,\n",
      "     intercept_scaling=1, loss='squared_hinge', max_iter=1000,\n",
      "     multi_class='ovr', penalty='l2', random_state=None, tol=0.0001,\n",
      "     verbose=0):\n",
      "             precision    recall  f1-score   support\n",
      "\n",
      "         15       0.14      0.07      0.10        42\n",
      "         16       0.12      0.09      0.10        90\n",
      "         42       0.14      0.34      0.20       102\n",
      "         52       0.00      0.00      0.00        21\n",
      "         53       0.00      0.00      0.00         3\n",
      "          6       0.00      0.00      0.00        13\n",
      "         62       0.00      0.00      0.00        65\n",
      "         64       1.00      0.08      0.15        12\n",
      "         65       0.20      0.10      0.13       111\n",
      "         67       0.00      0.00      0.00        29\n",
      "         88       0.38      0.27      0.32        37\n",
      "         90       0.32      0.49      0.39       213\n",
      "         92       0.00      0.00      0.00        30\n",
      "         95       0.00      0.00      0.00        17\n",
      "\n",
      "avg / total       0.19      0.22      0.18       785\n",
      "\n",
      "\n",
      "Confusion matrix:\n",
      "[[  3   5  17   0   0   0   0   0   4   0   1  12   0   0]\n",
      " [  2   8  23   1   1   1   1   0   9   1   2  39   1   1]\n",
      " [  6   9  35   1   0   0   0   0   3   2   0  46   0   0]\n",
      " [  0   3   4   0   0   0   0   0   3   0   0  11   0   0]\n",
      " [  0   1   1   0   0   0   0   0   0   0   1   0   0   0]\n",
      " [  1   1   6   0   0   0   0   0   1   0   1   3   0   0]\n",
      " [  0   7  23   0   1   0   0   0   1   0   2  28   3   0]\n",
      " [  0   1   3   0   1   0   0   1   2   0   0   4   0   0]\n",
      " [  2   8  37   0   0   0   0   0  11   1   6  42   4   0]\n",
      " [  1   4  10   0   0   0   0   0   2   0   0  11   1   0]\n",
      " [  0   1  10   0   0   1   0   0   4   0  10  11   0   0]\n",
      " [  5  13  71   0   1   1   2   0   9   3   1 105   0   2]\n",
      " [  1   3   5   0   0   1   0   0   6   0   1  13   0   0]\n",
      " [  0   4   4   0   0   0   0   0   0   1   1   7   0   0]]\n"
     ]
    }
   ],
   "source": [
    "# Classifier\n",
    "model_svc = LinearSVC()\n",
    "#model_svc = NuSVC()\n",
    "model_svc.fit(data_train_1D, labels_train_1D)\n",
    "\n",
    "# Comparisong with prediction\n",
    "predicted = model_svc.predict(data_valid_1D)\n",
    "\n",
    "print(\"Classification report for %s:\\n%s\\n\"\n",
    "      % (model_svc, metrics.classification_report(labels_valid_1D, predicted)))\n",
    "print(\"Confusion matrix:\\n%s\" % metrics.confusion_matrix(labels_valid_1D, predicted))"
   ]
  },
  {
   "cell_type": "markdown",
   "metadata": {},
   "source": [
    "## > Using scikit learn / Random Forests\n",
    "A scikit-learn bagging classifier."
   ]
  },
  {
   "cell_type": "code",
   "execution_count": 93,
   "metadata": {},
   "outputs": [
    {
     "name": "stdout",
     "output_type": "stream",
     "text": [
      "Classification report for RandomForestClassifier(bootstrap=True, class_weight=None, criterion='gini',\n",
      "            max_depth=None, max_features='auto', max_leaf_nodes=None,\n",
      "            min_impurity_decrease=0.0, min_impurity_split=None,\n",
      "            min_samples_leaf=1, min_samples_split=2,\n",
      "            min_weight_fraction_leaf=0.0, n_estimators=10, n_jobs=1,\n",
      "            oob_score=False, random_state=None, verbose=0,\n",
      "            warm_start=False):\n",
      "             precision    recall  f1-score   support\n",
      "\n",
      "         15       0.03      0.02      0.03        42\n",
      "         16       0.17      0.18      0.18        90\n",
      "         42       0.13      0.20      0.16       102\n",
      "         52       0.00      0.00      0.00        21\n",
      "         53       0.00      0.00      0.00         3\n",
      "          6       0.00      0.00      0.00        13\n",
      "         62       0.25      0.03      0.05        65\n",
      "         64       0.00      0.00      0.00        12\n",
      "         65       0.18      0.14      0.16       111\n",
      "         67       0.00      0.00      0.00        29\n",
      "         88       0.37      0.27      0.31        37\n",
      "         90       0.28      0.50      0.36       213\n",
      "         92       0.00      0.00      0.00        30\n",
      "         95       0.00      0.00      0.00        17\n",
      "\n",
      "avg / total       0.18      0.22      0.18       785\n",
      "\n",
      "\n",
      "Confusion matrix:\n",
      "[[  1   4  12   0   0   1   1   0   3   0   0  20   0   0]\n",
      " [  3  16  11   0   0   0   0   0  14   0   2  44   0   0]\n",
      " [  3  19  20   1   0   0   1   1   9   3   0  45   0   0]\n",
      " [  0   1   4   0   0   0   0   0   2   0   1  11   0   2]\n",
      " [  1   0   0   0   0   0   0   0   1   0   0   1   0   0]\n",
      " [  0   1   3   0   0   0   0   0   0   0   1   8   0   0]\n",
      " [  2   7  10   0   0   0   2   0   6   0   0  38   0   0]\n",
      " [  0   1   3   0   0   0   0   0   2   0   0   6   0   0]\n",
      " [  7   8  19   0   0   2   1   0  15   0   7  52   0   0]\n",
      " [  1   6   7   0   0   0   0   0   2   0   0  13   0   0]\n",
      " [  3   1  10   0   0   0   0   0   8   0  10   5   0   0]\n",
      " [  7  26  47   2   0   0   1   0  18   1   3 106   0   2]\n",
      " [  1   2   2   0   0   0   0   0   1   1   2  21   0   0]\n",
      " [  0   0   6   0   0   0   2   0   1   0   1   7   0   0]]\n"
     ]
    }
   ],
   "source": [
    "# Classifier\n",
    "model_RF = RandomForestClassifier()\n",
    "model_RF.fit(data_train_1D, labels_train_1D)\n",
    "\n",
    "# Comparisong with prediction\n",
    "predicted = model_RF.predict(data_valid_1D)\n",
    "\n",
    "print(\"Classification report for %s:\\n%s\\n\"\n",
    "      % (model_RF, metrics.classification_report(labels_valid_1D, predicted)))\n",
    "print(\"Confusion matrix:\\n%s\" % metrics.confusion_matrix(labels_valid_1D, predicted))"
   ]
  },
  {
   "cell_type": "markdown",
   "metadata": {},
   "source": [
    "## > Building a Keras Neural Network classifier\n"
   ]
  },
  {
   "cell_type": "code",
   "execution_count": 19,
   "metadata": {},
   "outputs": [
    {
     "name": "stderr",
     "output_type": "stream",
     "text": [
      "Using TensorFlow backend.\n"
     ]
    }
   ],
   "source": [
    "from tensorflow import keras\n",
    "\n",
    "from keras.models import Sequential\n",
    "from keras.layers import Dense\n",
    "from keras.layers import Convolution1D\n",
    "from keras.layers import Convolution2D\n",
    "from keras.layers import Conv2D\n",
    "from keras.layers import Flatten\n",
    "from keras.layers import MaxPool2D\n",
    "from keras.layers import Dropout\n",
    "\n",
    "from tensorflow.contrib.layers import maxout\n",
    "\n",
    "from keras.utils import np_utils\n",
    "from keras import regularizers\n",
    "from keras import optimizers\n",
    "from sklearn.preprocessing import OneHotEncoder\n",
    "from sklearn.preprocessing import LabelEncoder"
   ]
  },
  {
   "cell_type": "code",
   "execution_count": 20,
   "metadata": {},
   "outputs": [
    {
     "name": "stdout",
     "output_type": "stream",
     "text": [
      "Labels formats for convolutional layers:\n",
      "Train      int label format (?, ?, n_samples, n_channels)         |  (6278, 1)\n",
      "Validation int label format (?, ?, n_samples, n_channels)         |  (785, 1)\n",
      "Test       int label format (?, ?, n_samples, n_channels)         |  (785, 1)\n"
     ]
    }
   ],
   "source": [
    "n_bands = data_train.shape[-1]\n",
    "\n",
    "# >> One hot encoding the class values to tranform the vector of class integers into a binary matrix:\n",
    "int_enc = LabelEncoder()\n",
    "labels_train_int = int_enc.fit_transform(labels_train)\n",
    "labels_valid_int = int_enc.fit_transform(labels_valid)\n",
    "labels_test_int  = int_enc.fit_transform(labels_test)\n",
    "\n",
    "labels_train_int = np.expand_dims(labels_train_int, axis=1)\n",
    "labels_valid_int = np.expand_dims(labels_valid_int, axis=1)\n",
    "labels_test_int  = np.expand_dims(labels_test_int, axis=1)\n",
    "\n",
    "# Replicating the classification for all the bands:\n",
    "#labels_train_int = np.repeat(labels_train_int[:,np.newaxis], n_bands, 1)\n",
    "#labels_valid_int = np.repeat(labels_valid_int[:,np.newaxis], n_bands, 1)\n",
    "#labels_test_int  = np.repeat(labels_test_int[:,np.newaxis], n_bands, 1)\n",
    "\n",
    "oh_enc = OneHotEncoder(sparse=False)\n",
    "labels_train_ohe = oh_enc.fit_transform(labels_train_int)\n",
    "labels_valid_ohe = oh_enc.fit_transform(labels_valid_int)\n",
    "labels_train_ohe = oh_enc.fit_transform(labels_test_int)\n",
    "\n",
    "# uniques, labels_valid = np.unique(labels_valid, return_inverse=True)\n",
    "labels_train_cat = np_utils.to_categorical(labels_train_int)\n",
    "labels_valid_cat = np_utils.to_categorical(labels_valid_int)\n",
    "labels_test_cat  = np_utils.to_categorical(labels_test_int)\n",
    "\n",
    "#n_classes = labels_valid_ohe.shape[1]\n",
    "n_classes = 15\n",
    "# must hard-code this one\n",
    "\n",
    "print(\"Labels formats for convolutional layers:\")\n",
    "\n",
    "print(\"Train      int label format (?, ?, n_samples, n_channels)         | \", labels_train_int.shape)\n",
    "print(\"Validation int label format (?, ?, n_samples, n_channels)         | \", labels_valid_int.shape)\n",
    "print(\"Test       int label format (?, ?, n_samples, n_channels)         | \", labels_test_int.shape)"
   ]
  },
  {
   "cell_type": "code",
   "execution_count": 21,
   "metadata": {},
   "outputs": [
    {
     "name": "stdout",
     "output_type": "stream",
     "text": [
      "Data formats for convolutional layers:\n",
      "Train      4D data format (n_samples,size_x, size_y, n_channels) |  (6278, 32, 32, 6)\n",
      "Validation 4D data format (n_samples,size_x, size_y, n_channels) |  (785, 32, 32, 6)\n",
      "Test       4D data format (n_samples,size_x, size_y, n_channels) |  (785, 32, 32, 6)\n"
     ]
    }
   ],
   "source": [
    "n_pixels = data_train.shape[1] \n",
    "\n",
    "# Formatting data for convolutional layer:\n",
    "n_train_targets = data_train.shape[0]\n",
    "n_valid_targets = data_valid.shape[0]\n",
    "n_test_targets  = data_test.shape[0]\n",
    "\n",
    "#labels_train_int_4D = np.expand_dims(labels_train_int   , axis=0)\n",
    "#labels_train_int_4D = np.expand_dims(labels_train_int_4D, axis=0)\n",
    "#labels_valid_int_4D = np.expand_dims(labels_valid_int   , axis=0)\n",
    "#labels_valid_int_4D = np.expand_dims(labels_valid_int_4D, axis=0)\n",
    "#labels_test_int_4D  = np.expand_dims(labels_test_int    , axis=0)\n",
    "#labels_test_int_4D  = np.expand_dims(labels_test_int_4D , axis=0)\n",
    "\n",
    "\n",
    "print(\"Data formats for convolutional layers:\")\n",
    "\n",
    "print(\"Train      4D data format (n_samples,size_x, size_y, n_channels) | \", data_train.shape)\n",
    "print(\"Validation 4D data format (n_samples,size_x, size_y, n_channels) | \", data_valid.shape)\n",
    "print(\"Test       4D data format (n_samples,size_x, size_y, n_channels) | \", data_test.shape)\n",
    "\n",
    "#print(\"Train      4D label format (?, ?, n_samples, n_channels)         | \", labels_train_int_4D.shape)\n",
    "#print(\"Validation 4D label format (?, ?, n_samples, n_channels)         | \", labels_valid_int_4D.shape)\n",
    "#print(\"Test       4D label format (?, ?, n_samples, n_channels)         | \", labels_test_int_4D.shape)"
   ]
  },
  {
   "cell_type": "code",
   "execution_count": 97,
   "metadata": {},
   "outputs": [
    {
     "name": "stdout",
     "output_type": "stream",
     "text": [
      "Data formats for convolutional layers - 1 band:\n",
      "Train      4D data format (n_samples,size_x, size_y, n_channels) |  (6278, 32, 32, 2)\n",
      "Validation 4D data format (n_samples,size_x, size_y, n_channels) |  (785, 32, 32, 2)\n",
      "Test       4D data format (n_samples,size_x, size_y, n_channels) |  (785, 32, 32, 2)\n"
     ]
    }
   ],
   "source": [
    "# Trying with less bands:\n",
    "\n",
    "n_bands = 2\n",
    "\n",
    "data_train = data_train[:,:,:,:n_bands]\n",
    "data_valid = data_valid[:,:,:,:n_bands]\n",
    "data_test  = data_test [:,:,:,:n_bands]\n",
    "\n",
    "if (n_bands == 1):\n",
    "    data_train = np.expand_dims(data_train, axis=3)\n",
    "    data_valid = np.expand_dims(data_valid, axis=3)\n",
    "    data_test  = np.expand_dims(data_test, axis=3)\n",
    "\n",
    "\n",
    "print(\"Data formats for convolutional layers - 1 band:\")\n",
    "\n",
    "print(\"Train      4D data format (n_samples,size_x, size_y, n_channels) | \", data_train.shape)\n",
    "print(\"Validation 4D data format (n_samples,size_x, size_y, n_channels) | \", data_valid.shape)\n",
    "print(\"Test       4D data format (n_samples,size_x, size_y, n_channels) | \", data_test.shape)"
   ]
  },
  {
   "cell_type": "markdown",
   "metadata": {},
   "source": [
    "### Convolutional 2D layers\n",
    "\n",
    "Not working with 'mean_squared_error' loss \n",
    "\n",
    "Loss function gets stuck when using 'softmax' activation"
   ]
  },
  {
   "cell_type": "code",
   "execution_count": 22,
   "metadata": {},
   "outputs": [
    {
     "name": "stdout",
     "output_type": "stream",
     "text": [
      "_________________________________________________________________\n",
      "Layer (type)                 Output Shape              Param #   \n",
      "=================================================================\n",
      "conv2d (Conv2D)              (None, 8, 8, 64)          98368     \n",
      "_________________________________________________________________\n",
      "max_pooling2d (MaxPooling2D) (None, 4, 4, 64)          0         \n",
      "_________________________________________________________________\n",
      "conv2d_1 (Conv2D)            (None, 2, 2, 128)         131200    \n",
      "_________________________________________________________________\n",
      "flatten (Flatten)            (None, 512)               0         \n",
      "_________________________________________________________________\n",
      "dense (Dense)                (None, 128)               65664     \n",
      "_________________________________________________________________\n",
      "dropout (Dropout)            (None, 128)               0         \n",
      "_________________________________________________________________\n",
      "dense_1 (Dense)              (None, 15)                1935      \n",
      "=================================================================\n",
      "Total params: 297,167\n",
      "Trainable params: 297,167\n",
      "Non-trainable params: 0\n",
      "_________________________________________________________________\n"
     ]
    }
   ],
   "source": [
    "# Best for SDSS:\n",
    "#\n",
    "#model_Conv = keras.Sequential([\n",
    "#                          keras.layers.Conv2D(8, kernel_size=(4,4), strides=(2,2), padding='same',\n",
    "#                                              activation=tf.nn.relu, input_shape=(n_pixels,n_pixels,1)),\n",
    "#                          keras.layers.MaxPool2D(pool_size=(2,2), strides=(2,2)),\n",
    "#                          keras.layers.Conv2D(64, kernel_size=(2,2), strides=(1,1), padding='same',\n",
    "#                                              activation=tf.nn.relu),\n",
    "#                          keras.layers.MaxPool2D(pool_size=(2,2), strides=(2,2)),\n",
    "#                          keras.layers.Conv2D(128, kernel_size=(2,2), strides=(1,1), padding='same',\n",
    "#                                              activation=tf.nn.relu),\n",
    "#                          keras.layers.MaxPool2D(pool_size=(2,2), strides=(2,2)),\n",
    "#                          #keras.layers.Dropout(0.3),\n",
    "#                          keras.layers.Flatten(),\n",
    "#                          keras.layers.Dense(10, activation=tf.nn.sigmoid),\n",
    "#                          keras.layers.Dropout(0.3),\n",
    "#                          keras.layers.Dense(n_classes, activation=tf.nn.sigmoid)\n",
    "#                          ])\n",
    "\n",
    "model_Conv = keras.Sequential([\n",
    "                          keras.layers.Conv2D(64, kernel_size=(16,16), strides=(4,4), padding='same',\n",
    "                                              activation=tf.nn.relu, input_shape=(n_pixels,n_pixels,n_bands),\n",
    "                                              data_format=\"channels_last\"),\n",
    "                          keras.layers.MaxPool2D(pool_size=(2,2), strides=(2,2)),\n",
    "                          keras.layers.Conv2D(128, kernel_size=(4,4), strides=(2,2), padding='same',\n",
    "                                              activation=tf.nn.relu),\n",
    "                          #keras.layers.MaxPool2D(pool_size=(2,2), strides=(2,2)),\n",
    "                          #keras.layers.Conv2D(256, kernel_size=(2,2), strides=(1,1), padding='same',\n",
    "                          #                    activation=tf.nn.relu),\n",
    "                          #keras.layers.MaxPool2D(pool_size=(2,2), strides=(2,2)),\n",
    "                          #keras.layers.Dropout(0.3),\n",
    "                          keras.layers.Flatten(),\n",
    "                          keras.layers.Dense(128, activation=tf.nn.sigmoid),\n",
    "                          keras.layers.Dropout(0.3),\n",
    "                          keras.layers.Dense(n_classes, activation=tf.nn.sigmoid)\n",
    "                          ])\n",
    "\n",
    "model_Conv.compile(optimizer=tf.train.AdamOptimizer(learning_rate=0.001), \n",
    "                  loss='sparse_categorical_crossentropy',\n",
    "                  metrics=['accuracy'])\n",
    "\n",
    "model_Conv.summary()"
   ]
  },
  {
   "cell_type": "code",
   "execution_count": 23,
   "metadata": {},
   "outputs": [
    {
     "name": "stdout",
     "output_type": "stream",
     "text": [
      "Train on 6278 samples, validate on 785 samples\n",
      "Epoch 1/50\n",
      " - 3s - loss: 2.3711 - acc: 0.2316 - val_loss: 2.2527 - val_acc: 0.2548\n",
      "Epoch 2/50\n",
      " - 3s - loss: 2.2350 - acc: 0.2885 - val_loss: 2.2362 - val_acc: 0.2548\n",
      "Epoch 3/50\n",
      " - 3s - loss: 2.2233 - acc: 0.2975 - val_loss: 2.2126 - val_acc: 0.2548\n",
      "Epoch 4/50\n",
      " - 3s - loss: 2.1942 - acc: 0.2975 - val_loss: 2.1898 - val_acc: 0.2548\n",
      "Epoch 5/50\n",
      " - 3s - loss: 2.1297 - acc: 0.2972 - val_loss: 2.1152 - val_acc: 0.2548\n",
      "Epoch 6/50\n",
      " - 3s - loss: 2.0442 - acc: 0.2975 - val_loss: 2.0400 - val_acc: 0.2548\n",
      "Epoch 7/50\n",
      " - 3s - loss: 1.9876 - acc: 0.2977 - val_loss: 2.0119 - val_acc: 0.2548\n",
      "Epoch 8/50\n",
      " - 3s - loss: 1.9205 - acc: 0.2979 - val_loss: 1.9700 - val_acc: 0.2548\n",
      "Epoch 9/50\n",
      " - 3s - loss: 1.8703 - acc: 0.3050 - val_loss: 1.9462 - val_acc: 0.2624\n",
      "Epoch 10/50\n",
      " - 3s - loss: 1.8072 - acc: 0.3326 - val_loss: 1.9488 - val_acc: 0.2892\n",
      "Epoch 11/50\n",
      " - 3s - loss: 1.7797 - acc: 0.3468 - val_loss: 1.9117 - val_acc: 0.3236\n",
      "Epoch 12/50\n",
      " - 3s - loss: 1.6790 - acc: 0.4030 - val_loss: 1.9388 - val_acc: 0.3516\n",
      "Epoch 13/50\n",
      " - 3s - loss: 1.6109 - acc: 0.4406 - val_loss: 1.8711 - val_acc: 0.3682\n",
      "Epoch 14/50\n",
      " - 3s - loss: 1.5218 - acc: 0.4737 - val_loss: 1.8933 - val_acc: 0.3796\n",
      "Epoch 15/50\n",
      " - 3s - loss: 1.4033 - acc: 0.5186 - val_loss: 1.8967 - val_acc: 0.3898\n",
      "Epoch 16/50\n",
      " - 3s - loss: 1.3355 - acc: 0.5554 - val_loss: 1.8289 - val_acc: 0.4089\n",
      "Epoch 17/50\n",
      " - 3s - loss: 1.2039 - acc: 0.6083 - val_loss: 1.8891 - val_acc: 0.3949\n",
      "Epoch 18/50\n",
      " - 3s - loss: 1.0994 - acc: 0.6555 - val_loss: 1.9261 - val_acc: 0.3975\n",
      "Epoch 19/50\n",
      " - 3s - loss: 1.0047 - acc: 0.6811 - val_loss: 1.9066 - val_acc: 0.4166\n",
      "Epoch 20/50\n",
      " - 3s - loss: 0.9018 - acc: 0.7286 - val_loss: 1.9549 - val_acc: 0.4204\n",
      "Epoch 21/50\n",
      " - 3s - loss: 0.8134 - acc: 0.7590 - val_loss: 2.0436 - val_acc: 0.3975\n",
      "Epoch 22/50\n",
      " - 3s - loss: 0.7449 - acc: 0.7861 - val_loss: 2.2814 - val_acc: 0.3439\n",
      "Epoch 23/50\n",
      " - 3s - loss: 0.6768 - acc: 0.8081 - val_loss: 2.2698 - val_acc: 0.3771\n",
      "Epoch 24/50\n",
      " - 3s - loss: 0.6051 - acc: 0.8353 - val_loss: 2.2463 - val_acc: 0.3643\n",
      "Epoch 25/50\n",
      " - 3s - loss: 0.5377 - acc: 0.8498 - val_loss: 2.2869 - val_acc: 0.3873\n",
      "Epoch 26/50\n",
      " - 3s - loss: 0.4911 - acc: 0.8684 - val_loss: 2.3335 - val_acc: 0.3949\n",
      "Epoch 27/50\n",
      " - 3s - loss: 0.4437 - acc: 0.8863 - val_loss: 2.4160 - val_acc: 0.3554\n",
      "Epoch 28/50\n",
      " - 3s - loss: 0.3916 - acc: 0.8989 - val_loss: 2.5897 - val_acc: 0.3376\n",
      "Epoch 29/50\n",
      " - 3s - loss: 0.4039 - acc: 0.8941 - val_loss: 2.6591 - val_acc: 0.3376\n",
      "Epoch 30/50\n",
      " - 3s - loss: 0.3368 - acc: 0.9140 - val_loss: 2.5880 - val_acc: 0.3796\n",
      "Epoch 31/50\n",
      " - 3s - loss: 0.3117 - acc: 0.9221 - val_loss: 2.7409 - val_acc: 0.3567\n",
      "Epoch 32/50\n",
      " - 3s - loss: 0.2788 - acc: 0.9325 - val_loss: 2.8640 - val_acc: 0.3631\n",
      "Epoch 33/50\n",
      " - 3s - loss: 0.3024 - acc: 0.9202 - val_loss: 2.7207 - val_acc: 0.3758\n",
      "Epoch 34/50\n",
      " - 3s - loss: 0.2291 - acc: 0.9433 - val_loss: 2.8658 - val_acc: 0.3490\n",
      "Epoch 35/50\n",
      " - 3s - loss: 0.2511 - acc: 0.9379 - val_loss: 2.8182 - val_acc: 0.3732\n",
      "Epoch 36/50\n",
      " - 3s - loss: 0.2097 - acc: 0.9501 - val_loss: 3.0550 - val_acc: 0.3605\n",
      "Epoch 37/50\n",
      " - 3s - loss: 0.2049 - acc: 0.9519 - val_loss: 3.0801 - val_acc: 0.3618\n",
      "Epoch 38/50\n",
      " - 3s - loss: 0.2346 - acc: 0.9371 - val_loss: 3.1436 - val_acc: 0.3567\n",
      "Epoch 39/50\n",
      " - 3s - loss: 0.1754 - acc: 0.9564 - val_loss: 3.0899 - val_acc: 0.3682\n",
      "Epoch 40/50\n",
      " - 3s - loss: 0.1585 - acc: 0.9632 - val_loss: 3.1357 - val_acc: 0.3580\n",
      "Epoch 41/50\n",
      " - 3s - loss: 0.1411 - acc: 0.9697 - val_loss: 3.1773 - val_acc: 0.3618\n",
      "Epoch 42/50\n",
      " - 3s - loss: 0.1329 - acc: 0.9710 - val_loss: 3.2933 - val_acc: 0.3452\n",
      "Epoch 43/50\n",
      " - 3s - loss: 0.1183 - acc: 0.9758 - val_loss: 3.3011 - val_acc: 0.3274\n",
      "Epoch 44/50\n",
      " - 3s - loss: 0.1826 - acc: 0.9535 - val_loss: 3.2136 - val_acc: 0.3631\n",
      "Epoch 45/50\n",
      " - 3s - loss: 0.1322 - acc: 0.9673 - val_loss: 3.3247 - val_acc: 0.3541\n",
      "Epoch 46/50\n",
      " - 3s - loss: 0.1201 - acc: 0.9726 - val_loss: 3.3238 - val_acc: 0.3656\n",
      "Epoch 47/50\n",
      " - 3s - loss: 0.0999 - acc: 0.9783 - val_loss: 3.3791 - val_acc: 0.3783\n",
      "Epoch 48/50\n",
      " - 3s - loss: 0.0914 - acc: 0.9815 - val_loss: 3.4183 - val_acc: 0.3580\n",
      "Epoch 49/50\n",
      " - 3s - loss: 0.1129 - acc: 0.9707 - val_loss: 3.4812 - val_acc: 0.3529\n",
      "Epoch 50/50\n",
      " - 3s - loss: 0.1023 - acc: 0.9756 - val_loss: 3.4938 - val_acc: 0.3682\n"
     ]
    }
   ],
   "source": [
    "history_Conv = model_Conv.fit(data_train, labels_train_int, validation_data=(data_valid, labels_valid_int),\n",
    "                    epochs=50, batch_size=250, verbose=2)"
   ]
  },
  {
   "cell_type": "code",
   "execution_count": 24,
   "metadata": {},
   "outputs": [
    {
     "data": {
      "image/png": "[encoded data removed]",
      "text/plain": [
       "<Figure size 432x288 with 1 Axes>"
      ]
     },
     "metadata": {},
     "output_type": "display_data"
    },
    {
     "name": "stdout",
     "output_type": "stream",
     "text": [
      "Number of different classes in train sample: 14\n",
      "Number of different classes in valid sample: 14\n",
      "Number of different classes in test  sample: 14\n",
      "\n",
      "WARNING: A disply error can occur if the represented classes differ in the train/valid/test sets.\n",
      "         If so, increase the samples.\n",
      "Classification report for <tensorflow.python.keras.engine.sequential.Sequential object at 0x7fce57cc8128>:\n",
      "             precision    recall  f1-score   support\n",
      "\n",
      "         15       0.14      0.08      0.10        49\n",
      "         16       0.67      0.66      0.66        91\n",
      "         42       0.31      0.29      0.30       115\n",
      "         52       0.02      0.07      0.03        15\n",
      "         53       0.00      0.00      0.00         1\n",
      "          6       0.09      0.08      0.09        12\n",
      "         62       0.21      0.14      0.16        51\n",
      "         64       0.00      0.00      0.00         4\n",
      "         65       0.39      0.46      0.42        96\n",
      "         67       0.04      0.05      0.04        22\n",
      "         88       0.74      0.45      0.56        38\n",
      "         90       0.50      0.52      0.51       245\n",
      "         92       0.33      0.32      0.33        28\n",
      "         95       0.20      0.06      0.09        18\n",
      "\n",
      "avg / total       0.40      0.39      0.39       785\n",
      "\n",
      "\n",
      "Confusion matrix:\n",
      "[[  4   2   8   6   0   0   2   1   6   3   1  15   1   0]\n",
      " [  0  60   2   1   0   0   0   4  13   2   1   7   0   1]\n",
      " [  7   5  33  11   0   2   8   1   9   2   0  35   1   1]\n",
      " [  0   0   1   1   0   1   1   0   0   1   0  10   0   0]\n",
      " [  0   0   0   0   0   0   0   0   0   0   0   1   0   0]\n",
      " [  1   0   2   1   0   1   0   0   1   0   1   4   0   1]\n",
      " [  4   3  10   4   0   1   7   2   4   0   0  16   0   0]\n",
      " [  0   0   0   0   0   0   1   0   1   0   0   2   0   0]\n",
      " [  3  11   2   1   0   0   3   2  44   4   0  18   8   0]\n",
      " [  0   0   5   1   0   0   2   1   2   1   0   9   1   0]\n",
      " [  1   2   2   3   0   0   2   0   3   2  17   3   3   0]\n",
      " [  6   6  35  11   0   3   8   5  25  12   2 127   4   1]\n",
      " [  1   1   0   3   1   0   0   1   6   0   0   6   9   0]\n",
      " [  1   0   6   3   0   3   0   0   0   0   1   3   0   1]]\n",
      "Examples of misclassified images:\n"
     ]
    },
    {
     "data": {
      "image/png": "[encoded data removed]",
      "text/plain": [
       "<Figure size 1080x720 with 10 Axes>"
      ]
     },
     "metadata": {},
     "output_type": "display_data"
    }
   ],
   "source": [
    "# > Model evolution:\n",
    "plt.plot(history_Conv.history['loss'])\n",
    "plt.plot(history_Conv.history['val_loss'])\n",
    "plt.title('model train vs validation loss')\n",
    "plt.ylabel('loss')\n",
    "plt.xlabel('epoch')\n",
    "plt.legend(['train', 'validation'], loc='upper right')\n",
    "plt.show()\n",
    "\n",
    "\n",
    "print('Number of different classes in train sample: ' + str(len(np.unique(labels_train))))\n",
    "print('Number of different classes in valid sample: ' + str(len(np.unique(labels_valid))))\n",
    "print('Number of different classes in test  sample: ' + str(len(np.unique(labels_test))))\n",
    "print('')\n",
    "print('WARNING: A disply error can occur if the represented classes differ in the train/valid/test sets.')\n",
    "print('         If so, increase the samples.')\n",
    "\n",
    "\n",
    "# > Comparison with predictions:\n",
    "labels_pred_float_Conv = model_Conv.predict(data_test)\n",
    "\n",
    "labels_pred_Conv = int_enc.inverse_transform(labels_pred_float_Conv.argmax(1))\n",
    "# reversing one hot encoding\n",
    "\n",
    "\n",
    "print(\"Classification report for %s:\\n%s\\n\"\n",
    "      % (model_Conv, metrics.classification_report(labels_test, labels_pred_Conv)))\n",
    "print(\"Confusion matrix:\\n%s\" % metrics.confusion_matrix(labels_test, labels_pred_Conv))\n",
    "\n",
    "\n",
    "# > Plotting a few misclassified images (wrong labels):\n",
    "\n",
    "print('Examples of misclassified images:')\n",
    "\n",
    "# equivalent(?): indexes_wrong = np.nonzero(labels_pred_Conv != labels_test_int)\n",
    "indexes_wrong = [labels_pred_Conv != labels_test]\n",
    "# indexes of misclassified objects <indexed within range(data_test) or range(labels_pred_*)>\n",
    "\n",
    "labels_pred_int_Conv = labels_pred_float_Conv.argmax(1)\n",
    "\n",
    "data_test_wrong            = data_test[indexes_wrong]\n",
    "labels_test_int_wrong      = labels_test_int[indexes_wrong]\n",
    "labels_pred_int_Conv_wrong = labels_pred_int_Conv[indexes_wrong]\n",
    "\n",
    "fig = plt.figure(figsize=(15,10))\n",
    "plt.subplots_adjust(hspace=0.25,wspace=0.05)\n",
    "\n",
    "       \n",
    "for i in range(10):\n",
    "    plt.subplot(2, 5, i + 1)\n",
    "    plt.axis('off')\n",
    "    image_wrong = (data_test_wrong[i,:,:,0].reshape(n_pixels,n_pixels))\n",
    "    # using only first band in array\n",
    "    \n",
    "    vmin,vmax = np.percentile(image_wrong.flatten(),[1,99])\n",
    "    # min and max are set as percentiles for each image\n",
    "\n",
    "    plt.imshow(image_wrong, vmin=vmin, vmax=vmax, interpolation='nearest')\n",
    "    plt.title('label = %s | pred = %s' % (labels_unique[labels_test_int_wrong[i][0]] , labels_unique[labels_pred_int_Conv_wrong[i]]))\n",
    "\n"
   ]
  },
  {
   "cell_type": "markdown",
   "metadata": {},
   "source": [
    "https://machinelearningmastery.com/handwritten-digit-recognition-using-convolutional-neural-networks-python-keras/\n",
    "\n",
    "## Using Tensorflow\n",
    "https://github.com/aymericdamien/TensorFlow-Examples/blob/master/notebooks/3_NeuralNetworks/neural_network_raw.ipynb\n",
    "\n",
    "https://github.com/aymericdamien/TensorFlow-Examples/blob/master/notebooks/3_NeuralNetworks/neural_network.ipynb"
   ]
  },
  {
   "cell_type": "markdown",
   "metadata": {},
   "source": [
    "## Final check \n",
    "Using the test sample for a final check of the various algorithms used above. \n",
    "\n",
    "Checking if their performance is as good as it is reported in the validation process."
   ]
  },
  {
   "cell_type": "code",
   "execution_count": null,
   "metadata": {},
   "outputs": [],
   "source": [
    "print(\"====================================================================================\")\n",
    "# Predictions for SVM:\n",
    "predicted = model_svc.predict(data_test)\n",
    "print(\"Classification report for %s:\\n%s\\n\"\n",
    "      % (model_svc, metrics.classification_report(labels_test, predicted)))\n",
    "print(\"Confusion matrix:\\n%s \\n\" % metrics.confusion_matrix(labels_test, predicted))\n",
    "print(\"====================================================================================\")\n",
    "\n",
    "# Predictions for LogisticRegression:\n",
    "#predicted = model_svc.predict(data_test)\n",
    "#print(\"Classification report for %s:\\n%s\\n\"\n",
    "#      % (model_lrc, metrics.classification_report(labels_test, predicted)))\n",
    "#print(\"Confusion matrix:\\n%s \\n\" % metrics.confusion_matrix(labels_test, predicted))\n",
    "#print(\"====================================================================================\")\n",
    "\n",
    "# Predictions for MLP:\n",
    "#predicted = model_MLP.predict(data_test)\n",
    "#print(\"Classification report for %s:\\n%s\\n\"\n",
    "#      % (model_MLP, metrics.classification_report(labels_test, predicted)))\n",
    "#print(\"Confusion matrix:\\n%s \\n\" % metrics.confusion_matrix(labels_test, predicted))\n",
    "#print(\"====================================================================================\")\n",
    "\n",
    "# Predictions for RandomForests:\n",
    "predicted = model_RF.predict(data_test)\n",
    "print(\"Classification report for %s:\\n%s\\n\"\n",
    "      % (model_RF, metrics.classification_report(labels_test, predicted)))\n",
    "print(\"Confusion matrix:\\n%s \\n\" % metrics.confusion_matrix(labels_test, predicted))\n",
    "print(\"====================================================================================\")\n",
    "\n",
    "# Predictions for Keras 1D Neural Network:\n",
    "#labels_pred_float_1D = model_1D.predict(data_test)\n",
    "#labels_pred_1D = int_enc.inverse_transform(labels_pred_float_1D.argmax(1))\n",
    "#print(\"Classification report for %s:\\n%s\\n\"\n",
    "#      % (model_1D, metrics.classification_report(labels_test, labels_pred_1D)))\n",
    "#print(\"Confusion matrix:\\n%s\" % metrics.confusion_matrix(labels_test, labels_pred_1D))\n",
    "#print(\"====================================================================================\")\n",
    "\n",
    "# Predictions for Keras Convolutional Neural Network:\n",
    "labels_pred_float_Conv = model_Conv.predict(data_test)\n",
    "labels_pred_Conv = int_enc.inverse_transform(labels_pred_float_Conv.argmax(1))\n",
    "print(\"Classification report for %s:\\n%s\\n\"\n",
    "      % (model_Conv, metrics.classification_report(labels_test, labels_pred_Conv)))\n",
    "print(\"Confusion matrix:\\n%s\" % metrics.confusion_matrix(labels_test, labels_pred_Conv))\n",
    "print(\"====================================================================================\")"
   ]
  },
  {
   "cell_type": "markdown",
   "metadata": {},
   "source": [
    "# Saving the trained models\n",
    "Using pickle we can save the trained models to use them in a later time w/o the need to re-train them."
   ]
  },
  {
   "cell_type": "code",
   "execution_count": 77,
   "metadata": {},
   "outputs": [
    {
     "name": "stdout",
     "output_type": "stream",
     "text": [
      "/usr/local/lib/python3.4/dist-packages/ipykernel_launcher.py\n"
     ]
    }
   ],
   "source": [
    "#import pickle\n",
    "#import os\n",
    "\n",
    "## saving the models to disk\n",
    "#folder_saved = \"saved_models/v2.1\"\n",
    "\n",
    "#model_labels = ['SVC','LogReg','MLP','RandFor','Ker_1D','Ker_Conv']\n",
    "#models = ['model_SVC','model_LR','model_MLP','model_RF','model_1D','model_Conv']\n",
    "\n",
    "#if not os.path.exists(folder_saved):\n",
    "#    os.makedirs(folder_saved)\n",
    "    \n",
    "#for modstr,model in zip(model_labels,models):\n",
    "#    pickle.dump(model, open(folder_saved+'/galaxy_classification_SDSS_v1_'+modstr+'.sav', 'wb'))\n",
    "\n",
    "\n",
    "# To load the models at a later time:\n",
    "# loaded_model = pickle.load(open(filename, 'rb'))\n",
    "# result = loaded_model.score(X_test, Y_test)\n",
    "# print(result)"
   ]
  },
  {
   "cell_type": "code",
   "execution_count": null,
   "metadata": {},
   "outputs": [],
   "source": []
  }
 ],
 "metadata": {
  "kernelspec": {
   "display_name": "Python 3",
   "language": "python",
   "name": "python3"
  },
  "language_info": {
   "codemirror_mode": {
    "name": "ipython",
    "version": 3
   },
   "file_extension": ".py",
   "mimetype": "text/x-python",
   "name": "python",
   "nbconvert_exporter": "python",
   "pygments_lexer": "ipython3",
   "version": "3.4.3+"
  }
 },
 "nbformat": 4,
 "nbformat_minor": 2
}
